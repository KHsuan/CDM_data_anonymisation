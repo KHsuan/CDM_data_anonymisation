{
 "cells": [
  {
   "cell_type": "markdown",
   "metadata": {},
   "source": [
    "# Data anonymisation of all things that need to be anonymised\n",
    "- Name - sampleID; Ogi (remove first and last name)\n",
    "- gender - leave it for both\n",
    "- birth date - birth year banding; LS\n",
    "- country_of_birth - continent; LS\n",
    "- current country - leave it\n",
    "- phone number - remove\n",
    "- postcode - area; Asude\n",
    "- national_insurance_number - remove\n",
    "- bank_account_number - remove\n",
    "- weight - band into range; Asude (leave it for researchers)\n",
    "- height - band into range; Asude (leave it for researchers)\n",
    "- blood group - keep for researcher, remove for signs for public\n",
    "- avg_n_drinks_per_week - keep for researchers, band for public\n",
    "- avg_n_cigret_per_week - keep for researchers, band for public\n",
    "- education_level - leave it for researchers, band for public\n",
    "- n_countries_visited - band; Ogi"
   ]
  },
  {
   "cell_type": "markdown",
   "metadata": {},
   "source": [
    "## Setting up"
   ]
  },
  {
   "cell_type": "code",
   "execution_count": 1,
   "metadata": {},
   "outputs": [],
   "source": [
    "import random\n",
    "import pandas as pd\n",
    "import numpy as np\n",
    "import time\n",
    "import matplotlib.pyplot as plt\n",
    "import datetime\n",
    "import pycountry_convert as pc"
   ]
  },
  {
   "cell_type": "code",
   "execution_count": 16,
   "metadata": {},
   "outputs": [
    {
     "data": {
      "text/html": [
       "<div>\n",
       "<style scoped>\n",
       "    .dataframe tbody tr th:only-of-type {\n",
       "        vertical-align: middle;\n",
       "    }\n",
       "\n",
       "    .dataframe tbody tr th {\n",
       "        vertical-align: top;\n",
       "    }\n",
       "\n",
       "    .dataframe thead th {\n",
       "        text-align: right;\n",
       "    }\n",
       "</style>\n",
       "<table border=\"1\" class=\"dataframe\">\n",
       "  <thead>\n",
       "    <tr style=\"text-align: right;\">\n",
       "      <th></th>\n",
       "      <th>given_name</th>\n",
       "      <th>surname</th>\n",
       "      <th>gender</th>\n",
       "      <th>birthdate</th>\n",
       "      <th>country_of_birth</th>\n",
       "      <th>current_country</th>\n",
       "      <th>phone_number</th>\n",
       "      <th>postcode</th>\n",
       "      <th>national_insurance_number</th>\n",
       "      <th>bank_account_number</th>\n",
       "      <th>cc_status</th>\n",
       "      <th>weight</th>\n",
       "      <th>height</th>\n",
       "      <th>blood_group</th>\n",
       "      <th>avg_n_drinks_per_week</th>\n",
       "      <th>avg_n_cigret_per_week</th>\n",
       "      <th>education_level</th>\n",
       "      <th>n_countries_visited</th>\n",
       "    </tr>\n",
       "  </thead>\n",
       "  <tbody>\n",
       "    <tr>\n",
       "      <th>0</th>\n",
       "      <td>Lorraine</td>\n",
       "      <td>Reed</td>\n",
       "      <td>F</td>\n",
       "      <td>05/07/1984</td>\n",
       "      <td>Armenia</td>\n",
       "      <td>United Kingdom</td>\n",
       "      <td>(07700) 900876</td>\n",
       "      <td>LS5 8FN</td>\n",
       "      <td>ZZ 19 48 92 T</td>\n",
       "      <td>51157818</td>\n",
       "      <td>0</td>\n",
       "      <td>74.2</td>\n",
       "      <td>1.73</td>\n",
       "      <td>B+</td>\n",
       "      <td>6.5</td>\n",
       "      <td>218.8</td>\n",
       "      <td>phD</td>\n",
       "      <td>48</td>\n",
       "    </tr>\n",
       "    <tr>\n",
       "      <th>1</th>\n",
       "      <td>Edward</td>\n",
       "      <td>Williams</td>\n",
       "      <td>M</td>\n",
       "      <td>17/06/1997</td>\n",
       "      <td>Northern Mariana Islands</td>\n",
       "      <td>United Kingdom</td>\n",
       "      <td>(07700) 900 877</td>\n",
       "      <td>M0U 1RA</td>\n",
       "      <td>ZZ 753513 T</td>\n",
       "      <td>103328715</td>\n",
       "      <td>0</td>\n",
       "      <td>69.4</td>\n",
       "      <td>1.74</td>\n",
       "      <td>O-</td>\n",
       "      <td>0.7</td>\n",
       "      <td>43.6</td>\n",
       "      <td>primary</td>\n",
       "      <td>42</td>\n",
       "    </tr>\n",
       "    <tr>\n",
       "      <th>2</th>\n",
       "      <td>Hannah</td>\n",
       "      <td>Turner</td>\n",
       "      <td>F</td>\n",
       "      <td>15/06/1990</td>\n",
       "      <td>Venezuela</td>\n",
       "      <td>United Kingdom</td>\n",
       "      <td>+447700 900148</td>\n",
       "      <td>SO1 8HZ</td>\n",
       "      <td>ZZ 947196 T</td>\n",
       "      <td>69342327</td>\n",
       "      <td>0</td>\n",
       "      <td>98.6</td>\n",
       "      <td>1.88</td>\n",
       "      <td>B+</td>\n",
       "      <td>7.8</td>\n",
       "      <td>59.1</td>\n",
       "      <td>bachelor</td>\n",
       "      <td>9</td>\n",
       "    </tr>\n",
       "    <tr>\n",
       "      <th>3</th>\n",
       "      <td>Christine</td>\n",
       "      <td>Osborne</td>\n",
       "      <td>F</td>\n",
       "      <td>29/07/2000</td>\n",
       "      <td>Eritrea</td>\n",
       "      <td>United Kingdom</td>\n",
       "      <td>+447700 900112</td>\n",
       "      <td>B18 8LW</td>\n",
       "      <td>ZZ 39 69 47 T</td>\n",
       "      <td>85159170</td>\n",
       "      <td>0</td>\n",
       "      <td>62.0</td>\n",
       "      <td>1.56</td>\n",
       "      <td>O+</td>\n",
       "      <td>4.6</td>\n",
       "      <td>284.2</td>\n",
       "      <td>primary</td>\n",
       "      <td>32</td>\n",
       "    </tr>\n",
       "    <tr>\n",
       "      <th>4</th>\n",
       "      <td>Francesca</td>\n",
       "      <td>Yates</td>\n",
       "      <td>F</td>\n",
       "      <td>04/11/1968</td>\n",
       "      <td>Ecuador</td>\n",
       "      <td>United Kingdom</td>\n",
       "      <td>07700 900 413</td>\n",
       "      <td>TQ2 6BE</td>\n",
       "      <td>ZZ 30 98 91 T</td>\n",
       "      <td>11399166</td>\n",
       "      <td>0</td>\n",
       "      <td>96.3</td>\n",
       "      <td>1.81</td>\n",
       "      <td>A-</td>\n",
       "      <td>4.4</td>\n",
       "      <td>348.8</td>\n",
       "      <td>secondary</td>\n",
       "      <td>34</td>\n",
       "    </tr>\n",
       "    <tr>\n",
       "      <th>5</th>\n",
       "      <td>Joanne</td>\n",
       "      <td>Middleton</td>\n",
       "      <td>F</td>\n",
       "      <td>15/10/1963</td>\n",
       "      <td>Argentina</td>\n",
       "      <td>United Kingdom</td>\n",
       "      <td>+44(0)7700 900 032</td>\n",
       "      <td>CM7H 0XS</td>\n",
       "      <td>ZZ 141314 T</td>\n",
       "      <td>66208707</td>\n",
       "      <td>0</td>\n",
       "      <td>43.4</td>\n",
       "      <td>1.59</td>\n",
       "      <td>A-</td>\n",
       "      <td>5.7</td>\n",
       "      <td>219.3</td>\n",
       "      <td>other</td>\n",
       "      <td>7</td>\n",
       "    </tr>\n",
       "    <tr>\n",
       "      <th>6</th>\n",
       "      <td>Joel</td>\n",
       "      <td>Spencer</td>\n",
       "      <td>M</td>\n",
       "      <td>08/07/1982</td>\n",
       "      <td>Cook Islands</td>\n",
       "      <td>United Kingdom</td>\n",
       "      <td>(07700) 900579</td>\n",
       "      <td>L02 5WL</td>\n",
       "      <td>ZZ 97 20 76 T</td>\n",
       "      <td>108456420</td>\n",
       "      <td>0</td>\n",
       "      <td>77.5</td>\n",
       "      <td>1.55</td>\n",
       "      <td>B+</td>\n",
       "      <td>2.4</td>\n",
       "      <td>79.5</td>\n",
       "      <td>secondary</td>\n",
       "      <td>34</td>\n",
       "    </tr>\n",
       "    <tr>\n",
       "      <th>7</th>\n",
       "      <td>Leonard</td>\n",
       "      <td>Marshall</td>\n",
       "      <td>M</td>\n",
       "      <td>20/01/1987</td>\n",
       "      <td>Saint Vincent and the Grenadines</td>\n",
       "      <td>United Kingdom</td>\n",
       "      <td>07700 900508</td>\n",
       "      <td>CR3 5ZN</td>\n",
       "      <td>ZZ 599246 T</td>\n",
       "      <td>126109351</td>\n",
       "      <td>0</td>\n",
       "      <td>59.0</td>\n",
       "      <td>1.89</td>\n",
       "      <td>A+</td>\n",
       "      <td>8.4</td>\n",
       "      <td>48.0</td>\n",
       "      <td>other</td>\n",
       "      <td>24</td>\n",
       "    </tr>\n",
       "    <tr>\n",
       "      <th>8</th>\n",
       "      <td>Tracy</td>\n",
       "      <td>Smith</td>\n",
       "      <td>F</td>\n",
       "      <td>07/04/1999</td>\n",
       "      <td>Kiribati</td>\n",
       "      <td>United Kingdom</td>\n",
       "      <td>+447700 900 960</td>\n",
       "      <td>WR96 2TD</td>\n",
       "      <td>ZZ278789T</td>\n",
       "      <td>10754702</td>\n",
       "      <td>0</td>\n",
       "      <td>83.1</td>\n",
       "      <td>1.42</td>\n",
       "      <td>A+</td>\n",
       "      <td>1.2</td>\n",
       "      <td>148.1</td>\n",
       "      <td>secondary</td>\n",
       "      <td>17</td>\n",
       "    </tr>\n",
       "    <tr>\n",
       "      <th>9</th>\n",
       "      <td>Gavin</td>\n",
       "      <td>Kay</td>\n",
       "      <td>M</td>\n",
       "      <td>21/12/1998</td>\n",
       "      <td>Belize</td>\n",
       "      <td>United Kingdom</td>\n",
       "      <td>+44(0)7700900206</td>\n",
       "      <td>KT5A 0AW</td>\n",
       "      <td>ZZ 131934 T</td>\n",
       "      <td>52176102</td>\n",
       "      <td>0</td>\n",
       "      <td>80.0</td>\n",
       "      <td>1.74</td>\n",
       "      <td>A+</td>\n",
       "      <td>5.2</td>\n",
       "      <td>47.0</td>\n",
       "      <td>bachelor</td>\n",
       "      <td>47</td>\n",
       "    </tr>\n",
       "  </tbody>\n",
       "</table>\n",
       "</div>"
      ],
      "text/plain": [
       "  given_name    surname gender   birthdate                  country_of_birth  \\\n",
       "0   Lorraine       Reed      F  05/07/1984                           Armenia   \n",
       "1     Edward   Williams      M  17/06/1997          Northern Mariana Islands   \n",
       "2     Hannah     Turner      F  15/06/1990                         Venezuela   \n",
       "3  Christine    Osborne      F  29/07/2000                           Eritrea   \n",
       "4  Francesca      Yates      F  04/11/1968                           Ecuador   \n",
       "5     Joanne  Middleton      F  15/10/1963                         Argentina   \n",
       "6       Joel    Spencer      M  08/07/1982                      Cook Islands   \n",
       "7    Leonard   Marshall      M  20/01/1987  Saint Vincent and the Grenadines   \n",
       "8      Tracy      Smith      F  07/04/1999                          Kiribati   \n",
       "9      Gavin        Kay      M  21/12/1998                            Belize   \n",
       "\n",
       "  current_country        phone_number  postcode national_insurance_number  \\\n",
       "0  United Kingdom      (07700) 900876   LS5 8FN             ZZ 19 48 92 T   \n",
       "1  United Kingdom     (07700) 900 877   M0U 1RA               ZZ 753513 T   \n",
       "2  United Kingdom      +447700 900148   SO1 8HZ               ZZ 947196 T   \n",
       "3  United Kingdom      +447700 900112   B18 8LW             ZZ 39 69 47 T   \n",
       "4  United Kingdom       07700 900 413   TQ2 6BE             ZZ 30 98 91 T   \n",
       "5  United Kingdom  +44(0)7700 900 032  CM7H 0XS               ZZ 141314 T   \n",
       "6  United Kingdom      (07700) 900579   L02 5WL             ZZ 97 20 76 T   \n",
       "7  United Kingdom        07700 900508   CR3 5ZN               ZZ 599246 T   \n",
       "8  United Kingdom     +447700 900 960  WR96 2TD                 ZZ278789T   \n",
       "9  United Kingdom    +44(0)7700900206  KT5A 0AW               ZZ 131934 T   \n",
       "\n",
       "   bank_account_number  cc_status  weight  height blood_group  \\\n",
       "0             51157818          0    74.2    1.73          B+   \n",
       "1            103328715          0    69.4    1.74          O-   \n",
       "2             69342327          0    98.6    1.88          B+   \n",
       "3             85159170          0    62.0    1.56          O+   \n",
       "4             11399166          0    96.3    1.81          A-   \n",
       "5             66208707          0    43.4    1.59          A-   \n",
       "6            108456420          0    77.5    1.55          B+   \n",
       "7            126109351          0    59.0    1.89          A+   \n",
       "8             10754702          0    83.1    1.42          A+   \n",
       "9             52176102          0    80.0    1.74          A+   \n",
       "\n",
       "   avg_n_drinks_per_week  avg_n_cigret_per_week education_level  \\\n",
       "0                    6.5                  218.8             phD   \n",
       "1                    0.7                   43.6         primary   \n",
       "2                    7.8                   59.1        bachelor   \n",
       "3                    4.6                  284.2         primary   \n",
       "4                    4.4                  348.8       secondary   \n",
       "5                    5.7                  219.3           other   \n",
       "6                    2.4                   79.5       secondary   \n",
       "7                    8.4                   48.0           other   \n",
       "8                    1.2                  148.1       secondary   \n",
       "9                    5.2                   47.0        bachelor   \n",
       "\n",
       "   n_countries_visited  \n",
       "0                   48  \n",
       "1                   42  \n",
       "2                    9  \n",
       "3                   32  \n",
       "4                   34  \n",
       "5                    7  \n",
       "6                   34  \n",
       "7                   24  \n",
       "8                   17  \n",
       "9                   47  "
      ]
     },
     "execution_count": 16,
     "metadata": {},
     "output_type": "execute_result"
    }
   ],
   "source": [
    "data = pd.read_csv('customer_information.csv')\n",
    "data.head(10)"
   ]
  },
  {
   "cell_type": "markdown",
   "metadata": {},
   "source": [
    "## Name - sampleID"
   ]
  },
  {
   "cell_type": "code",
   "execution_count": null,
   "metadata": {},
   "outputs": [],
   "source": []
  },
  {
   "cell_type": "code",
   "execution_count": null,
   "metadata": {},
   "outputs": [],
   "source": []
  },
  {
   "cell_type": "markdown",
   "metadata": {},
   "source": [
    "## Birthdate - Birth year"
   ]
  },
  {
   "cell_type": "code",
   "execution_count": null,
   "metadata": {},
   "outputs": [],
   "source": [
    "# Birth years\n",
    "birthDate = pd.to_datetime(data.birthdate, format='mixed')\n",
    "data['birth_year'] = pd.DatetimeIndex(birthDate).year\n",
    "data.head(10)\n",
    "\n",
    "# finding number of unique values per band\n",
    "unique_birthdate_counts = data['birth_year'].value_counts()\n",
    "unique_birthdate_counts\n",
    "# potential problem: only 5 1955"
   ]
  },
  {
   "cell_type": "code",
   "execution_count": 4,
   "metadata": {},
   "outputs": [
    {
     "data": {
      "image/png": "[encoded data removed]",
      "text/plain": [
       "<Figure size 640x480 with 1 Axes>"
      ]
     },
     "metadata": {},
     "output_type": "display_data"
    }
   ],
   "source": [
    "plt.hist(data[\"birth_year\"])\n",
    "plt.xlabel(\"Birth Year\")\n",
    "plt.ylabel(\"Number of People\")\n",
    "plt.show()"
   ]
  },
  {
   "cell_type": "markdown",
   "metadata": {},
   "source": [
    "## Country of birth - continent"
   ]
  },
  {
   "cell_type": "code",
   "execution_count": 18,
   "metadata": {},
   "outputs": [],
   "source": [
    "def country_to_continent(country_name):\n",
    "    try:\n",
    "        country_code = pc.country_name_to_country_alpha2(country_name)\n",
    "        continent_code = pc.country_alpha2_to_continent_code(country_code)\n",
    "        continent_name = pc.convert_continent_code_to_continent_name(continent_code)\n",
    "        return continent_name\n",
    "    except:\n",
    "        return 'Unknown'"
   ]
  },
  {
   "cell_type": "code",
   "execution_count": 19,
   "metadata": {},
   "outputs": [
    {
     "data": {
      "text/plain": [
       "continent_of_birth\n",
       "Europe           213\n",
       "Africa           208\n",
       "Asia             189\n",
       "North America    137\n",
       "Oceania          112\n",
       "Unknown           72\n",
       "South America     66\n",
       "Antarctica         3\n",
       "Name: count, dtype: int64"
      ]
     },
     "execution_count": 19,
     "metadata": {},
     "output_type": "execute_result"
    }
   ],
   "source": [
    "data['continent_of_birth'] = data['country_of_birth'].apply(country_to_continent)\n",
    "data.head(10)\n",
    "\n",
    "# finding the number of unique continent\n",
    "unique_continent_counts = data['continent_of_birth'].value_counts()\n",
    "unique_continent_counts\n",
    "# potential problem: antartica has 3 counts and there are 72 unknowns - need to go through unknowns"
   ]
  },
  {
   "cell_type": "code",
   "execution_count": 20,
   "metadata": {},
   "outputs": [
    {
     "name": "stdout",
     "output_type": "stream",
     "text": [
      "    given_name                                   country_of_birth  \\\n",
      "14       Bruce                                              Korea   \n",
      "17   Francesca                              Palestinian Territory   \n",
      "18       Grace                                   Saint Barthelemy   \n",
      "21   Frederick                                       Saint Helena   \n",
      "22      Connor                                              Korea   \n",
      "..         ...                                                ...   \n",
      "910    Barbara  British Indian Ocean Territory (Chagos Archipe...   \n",
      "915       John               United States Minor Outlying Islands   \n",
      "933     Joanne       Antarctica (the territory South of 60 deg S)   \n",
      "950     Elliot                                            Reunion   \n",
      "966   Clifford                                              Korea   \n",
      "\n",
      "    continent_of_birth  \n",
      "14             Unknown  \n",
      "17             Unknown  \n",
      "18             Unknown  \n",
      "21             Unknown  \n",
      "22             Unknown  \n",
      "..                 ...  \n",
      "910            Unknown  \n",
      "915            Unknown  \n",
      "933            Unknown  \n",
      "950            Unknown  \n",
      "966            Unknown  \n",
      "\n",
      "[72 rows x 3 columns]\n"
     ]
    },
    {
     "data": {
      "text/plain": [
       "country_of_birth\n",
       "Korea                                                  12\n",
       "Western Sahara                                          6\n",
       "Slovakia (Slovak Republic)                              6\n",
       "Saint Barthelemy                                        5\n",
       "Pitcairn Islands                                        5\n",
       "Holy See (Vatican City State)                           5\n",
       "Reunion                                                 4\n",
       "United States Minor Outlying Islands                    4\n",
       "Antarctica (the territory South of 60 deg S)            4\n",
       "Svalbard & Jan Mayen Islands                            4\n",
       "Bouvet Island (Bouvetoya)                               4\n",
       "Saint Helena                                            3\n",
       "Cote d'Ivoire                                           3\n",
       "British Indian Ocean Territory (Chagos Archipelago)     2\n",
       "Palestinian Territory                                   2\n",
       "Libyan Arab Jamahiriya                                  1\n",
       "Timor-Leste                                             1\n",
       "Netherlands Antilles                                    1\n",
       "Name: count, dtype: int64"
      ]
     },
     "execution_count": 20,
     "metadata": {},
     "output_type": "execute_result"
    }
   ],
   "source": [
    "# Going through the unknowns\n",
    "unknown_continent_rows = data[data['continent_of_birth'] == 'Unknown']\n",
    "\n",
    "# Select only the 'country_of_birth' and 'continent' columns\n",
    "unknown_continent_rows = unknown_continent_rows[['given_name','country_of_birth', 'continent_of_birth']]\n",
    "\n",
    "# Display these rows\n",
    "print(unknown_continent_rows)\n",
    "\n",
    "# finding the number of unique country of birth for unknowns\n",
    "unique_country_counts = unknown_continent_rows['country_of_birth'].value_counts()\n",
    "unique_country_counts"
   ]
  },
  {
   "cell_type": "code",
   "execution_count": 26,
   "metadata": {},
   "outputs": [],
   "source": [
    "# Manually re-classifying the unknowns by creating a dictionary\n",
    "continent_mapping = {\n",
    "    'Korea': 'Asia',\n",
    "    'Western Sahara': 'Africa',\n",
    "    'Slovakia (Slovak Republic)': 'Europe',\n",
    "    'Saint Barthelemy': 'North America',\n",
    "    'Pitcairn Islands': 'Oceania',\n",
    "    'Holy See': 'Europe',\n",
    "    'Reunion': 'Africa',\n",
    "    'United States Minor Outlying Islands': 'North America',\n",
    "    'Antarctica (the territory South of 60 deg S)': 'Antarctica',\n",
    "    'Svalbard & Jan Mayen Islands': 'Europe',\n",
    "    'Bouvet Island (Bouvetoya)': 'Antarctica',\n",
    "    'Saint Helena': 'Africa',\n",
    "    \"Cote d'Ivoire\": 'Africa',\n",
    "    'British Indian Ocean Territory (Chagos Archipelago)': 'Asia',\n",
    "    'Palestinian Territory': 'Asia',\n",
    "    'Libyan Arab Jamahiriya': 'Africa',\n",
    "    'Timor-Leste': 'Asia',\n",
    "    'Netherlands Antilles': 'North America'\n",
    "}\n",
    "\n",
    "# Applying the mapping to the dataframe\n",
    "data['continent_of_birth'] = data['country_of_birth'].map(continent_mapping)"
   ]
  },
  {
   "cell_type": "code",
   "execution_count": 27,
   "metadata": {},
   "outputs": [
    {
     "data": {
      "text/plain": [
       "continent_of_birth\n",
       "Asia             17\n",
       "Africa           17\n",
       "North America    10\n",
       "Europe           10\n",
       "Antarctica        8\n",
       "Oceania           5\n",
       "Name: count, dtype: int64"
      ]
     },
     "execution_count": 27,
     "metadata": {},
     "output_type": "execute_result"
    }
   ],
   "source": [
    "# finding the number of unique continent\n",
    "unique_continent_counts = data['continent_of_birth'].value_counts()\n",
    "unique_continent_counts"
   ]
  },
  {
   "cell_type": "code",
   "execution_count": 28,
   "metadata": {},
   "outputs": [],
   "source": [
    "continent_labels = [\"Europe\", \"Africa\", \"Asia\", \"North America\", \"Oceania\", \"Unknown\", \"South America\", \"Antarctica\"]\n",
    "\n",
    "continent_counts = data[\"continent_of_birth\"].value_counts()\n",
    "continent_count_in_order = []\n",
    "for i in continent_labels:\n",
    "    continent_count_in_order.append(counts[i])"
   ]
  },
  {
   "cell_type": "code",
   "execution_count": 29,
   "metadata": {},
   "outputs": [
    {
     "data": {
      "image/png": "[encoded data removed]",
      "text/plain": [
       "<Figure size 640x480 with 1 Axes>"
      ]
     },
     "metadata": {},
     "output_type": "display_data"
    }
   ],
   "source": [
    "plt.bar(continent_labels, continent_count_in_order)\n",
    "plt.xlabel(\"Average number drinks per week in group\")\n",
    "plt.ylabel(\"People\")\n",
    "plt.show()"
   ]
  },
  {
   "cell_type": "markdown",
   "metadata": {},
   "source": [
    "## Postcode - area"
   ]
  },
  {
   "cell_type": "code",
   "execution_count": null,
   "metadata": {},
   "outputs": [],
   "source": []
  },
  {
   "cell_type": "code",
   "execution_count": null,
   "metadata": {},
   "outputs": [],
   "source": []
  },
  {
   "cell_type": "code",
   "execution_count": null,
   "metadata": {},
   "outputs": [],
   "source": []
  },
  {
   "cell_type": "markdown",
   "metadata": {},
   "source": [
    "## Weight - ranges"
   ]
  },
  {
   "cell_type": "code",
   "execution_count": 14,
   "metadata": {},
   "outputs": [
    {
     "name": "stdout",
     "output_type": "stream",
     "text": [
      "Minimum weight: 35.0\n",
      "Maximum weight: 100.0\n"
     ]
    }
   ],
   "source": [
    "# Before banding, determining range of weight by finding minimum and maximum values\n",
    "min_weight = data['weight'].min()\n",
    "max_weight = data['weight'].max()\n",
    "\n",
    "print(f\"Minimum weight: {min_weight}\")\n",
    "print(f\"Maximum weight: {max_weight}\")"
   ]
  },
  {
   "cell_type": "code",
   "execution_count": null,
   "metadata": {},
   "outputs": [],
   "source": []
  },
  {
   "cell_type": "code",
   "execution_count": null,
   "metadata": {},
   "outputs": [],
   "source": []
  },
  {
   "cell_type": "code",
   "execution_count": null,
   "metadata": {},
   "outputs": [],
   "source": []
  },
  {
   "cell_type": "markdown",
   "metadata": {},
   "source": [
    "## Height - ranges"
   ]
  },
  {
   "cell_type": "code",
   "execution_count": null,
   "metadata": {},
   "outputs": [],
   "source": []
  },
  {
   "cell_type": "code",
   "execution_count": null,
   "metadata": {},
   "outputs": [],
   "source": []
  },
  {
   "cell_type": "code",
   "execution_count": null,
   "metadata": {},
   "outputs": [],
   "source": []
  },
  {
   "cell_type": "code",
   "execution_count": null,
   "metadata": {},
   "outputs": [],
   "source": []
  },
  {
   "cell_type": "markdown",
   "metadata": {},
   "source": [
    "## Countries visited - bands"
   ]
  },
  {
   "cell_type": "code",
   "execution_count": null,
   "metadata": {},
   "outputs": [],
   "source": []
  },
  {
   "cell_type": "code",
   "execution_count": null,
   "metadata": {},
   "outputs": [],
   "source": []
  },
  {
   "cell_type": "code",
   "execution_count": null,
   "metadata": {},
   "outputs": [],
   "source": []
  },
  {
   "cell_type": "code",
   "execution_count": null,
   "metadata": {},
   "outputs": [],
   "source": []
  },
  {
   "cell_type": "code",
   "execution_count": null,
   "metadata": {},
   "outputs": [],
   "source": []
  }
 ],
 "metadata": {
  "kernelspec": {
   "display_name": "base",
   "language": "python",
   "name": "python3"
  },
  "language_info": {
   "codemirror_mode": {
    "name": "ipython",
    "version": 3
   },
   "file_extension": ".py",
   "mimetype": "text/x-python",
   "name": "python",
   "nbconvert_exporter": "python",
   "pygments_lexer": "ipython3",
   "version": "3.11.5"
  }
 },
 "nbformat": 4,
 "nbformat_minor": 2
}
