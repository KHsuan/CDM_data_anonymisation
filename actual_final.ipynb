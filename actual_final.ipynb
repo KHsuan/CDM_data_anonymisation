{
 "cells": [
  {
   "attachments": {},
   "cell_type": "markdown",
   "metadata": {},
   "source": [
    "# Team Panda | data anonymisation and security sharing project\n",
    "iInsureU123, a health insurance start-up, consulting us for data anonymisation and security sharing. "
   ]
  },
  {
   "attachments": {},
   "cell_type": "markdown",
   "metadata": {},
   "source": [
    "## Setting up the environment"
   ]
  },
  {
   "attachments": {},
   "cell_type": "markdown",
   "metadata": {},
   "source": [
    "### Importing packages and data"
   ]
  },
  {
   "cell_type": "code",
   "execution_count": 7,
   "metadata": {},
   "outputs": [],
   "source": [
    "# Importing packages\n",
    "import random\n",
    "import pandas as pd\n",
    "import numpy as np\n",
    "import time\n",
    "import matplotlib.pyplot as plt\n",
    "import datetime\n",
    "import pycountry_convert as pc\n",
    "import seaborn as sns\n",
    "sns.set()\n",
    "# Importing the data\n",
    "data = pd.read_csv('customer_information.csv')"
   ]
  },
  {
   "attachments": {},
   "cell_type": "markdown",
   "metadata": {},
   "source": [
    "### Functions"
   ]
  },
  {
   "cell_type": "code",
   "execution_count": 8,
   "metadata": {},
   "outputs": [],
   "source": [
    "# Function to see the distribution in each variable\n",
    "def plot_column_counts_with_annotations(data, variable, rotation_degree=0):\n",
    "    # Counting unique values in the specified column\n",
    "    counts = data[variable].value_counts()\n",
    "    variable_name = variable.replace(\"_\",\" \")\n",
    "    # Plotting the counts as a bar graph\n",
    "    ax = counts.plot(kind='bar')\n",
    "    plt.xlabel(variable_name)\n",
    "    plt.ylabel(\"Counts\")\n",
    "    plt.title(f\"Distribution of {variable_name}\")\n",
    "    plt.xticks(rotation=rotation_degree)\n",
    "\n",
    "    # # Annotating the bar graph with the counts\n",
    "    for i, count in enumerate(counts):\n",
    "        ax.annotate(str(count), (i, count), ha='center', va='bottom', xytext=(0, 0), textcoords='offset points')\n",
    "\n",
    "    plt.show()"
   ]
  },
  {
   "cell_type": "markdown",
   "metadata": {},
   "source": [
    "# Anonymising names into sampleID"
   ]
  },
  {
   "cell_type": "code",
   "execution_count": 9,
   "metadata": {},
   "outputs": [],
   "source": [
    "def generate_sample_id(index):\n",
    "    return f\"sid_{str(index + 1).zfill(5)}\"\n",
    "\n",
    "data['sample_ID'] = data.index.to_series().apply(generate_sample_id)"
   ]
  },
  {
   "cell_type": "markdown",
   "metadata": {},
   "source": [
    "# Banding birth year"
   ]
  },
  {
   "cell_type": "code",
   "execution_count": 46,
   "metadata": {},
   "outputs": [
    {
     "data": {
      "image/png": "[encoded data removed]",
      "text/plain": [
       "<Figure size 640x480 with 1 Axes>"
      ]
     },
     "metadata": {},
     "output_type": "display_data"
    }
   ],
   "source": [
    "# Converting birth date to birth year\n",
    "birthDate = pd.to_datetime(data.birthdate, format='mixed')\n",
    "data['birth_year'] = pd.DatetimeIndex(birthDate).year\n",
    "\n",
    "# Looking at min and max of birth year\n",
    "min_birthyear = data['birth_year'].min() # 1955\n",
    "max_birthyear = data['birth_year'].max() # 2005\n",
    "\n",
    "# Creating groups with 10 years range\n",
    "birthyear_bins = [\"1955\", \"1965\", \"1975\", \"1985\", \"1995\", \"2005\"]\n",
    "birthyear_labels = [\"1955-1964\", \"1965-1974\", \"1975-1984\",\"1985-1994\",\"1995-2005\" ]\n",
    "\n",
    "# Banding heights into specified ranges\n",
    "data['birth_year_ranges'] = pd.cut(data['birth_year'], bins=birthyear_bins, labels=birthyear_labels, right=False)\n",
    "\n",
    "# Showing counts of height ranges\n",
    "plot_column_counts_with_annotations(data, 'birth_year_ranges')\n"
   ]
  },
  {
   "cell_type": "markdown",
   "metadata": {},
   "source": [
    "# Banding country of birth to continent of birth"
   ]
  },
  {
   "cell_type": "code",
   "execution_count": 47,
   "metadata": {},
   "outputs": [],
   "source": [
    "# Dictionary to manually map countries that could not be mapped via pycountry_convert\n",
    "continent_mapping = {\n",
    "    'Korea': 'Asia',\n",
    "    'Western Sahara': 'Africa',\n",
    "    'Slovakia (Slovak Republic)': 'Europe',\n",
    "    'Saint Barthelemy': 'North America',\n",
    "    'Pitcairn Islands': 'Oceania',\n",
    "    'Holy See': 'Europe',\n",
    "    'Reunion': 'Africa',\n",
    "    'United States Minor Outlying Islands': 'North America',\n",
    "    'Antarctica (the territory South of 60 deg S)': 'Antarctica',\n",
    "    'Svalbard & Jan Mayen Islands': 'Europe',\n",
    "    'Bouvet Island (Bouvetoya)': 'Antarctica',\n",
    "    'Saint Helena': 'Africa',\n",
    "    \"Cote d'Ivoire\": 'Africa',\n",
    "    'British Indian Ocean Territory (Chagos Archipelago)': 'Asia',\n",
    "    'Palestinian Territory': 'Asia',\n",
    "    'Libyan Arab Jamahiriya': 'Africa',\n",
    "    'Timor-Leste': 'Asia',\n",
    "    'Netherlands Antilles': 'North America',\n",
    "    'Holy See (Vatican City State)': 'Europe'\n",
    "}\n",
    "\n",
    "# Function to map country to continent\n",
    "def country_to_continent(country_name):\n",
    "    try:\n",
    "        country_code = pc.country_name_to_country_alpha2(country_name)\n",
    "        continent_code = pc.country_alpha2_to_continent_code(country_code)\n",
    "        continent_name = pc.convert_continent_code_to_continent_name(continent_code)\n",
    "        return continent_name\n",
    "    except:\n",
    "        if country_name in continent_mapping:\n",
    "            return continent_mapping[country_name]\n",
    "        else:\n",
    "            return 'Unknown'\n",
    "        \n",
    "# # Applying the function to map the country to continent\n",
    "data['continent_of_birth'] = data['country_of_birth'].apply(country_to_continent)\n",
    "# data['continent_of_birth'].replace('North America', 'America', inplace = True)\n",
    "# data['continent_of_birth'].replace('South America', 'America', inplace = True)\n",
    "# data['continent_of_birth'].replace('Antarctica', 'Oceania', inplace = True)\n",
    "\n",
    "#continent_labels = [\"Europe & North America & Asia & Oceania\", \"South America & Africa & Antarctica\"]\n",
    "\n",
    "#plot_column_counts_with_annotations(data, \"continent_of_birth\")"
   ]
  },
  {
   "cell_type": "markdown",
   "metadata": {},
   "source": [
    "# Banding postcodes into regions"
   ]
  },
  {
   "cell_type": "code",
   "execution_count": 14,
   "metadata": {},
   "outputs": [
    {
     "data": {
      "image/png": "[encoded data removed]",
      "text/plain": [
       "<Figure size 640x480 with 1 Axes>"
      ]
     },
     "metadata": {},
     "output_type": "display_data"
    }
   ],
   "source": [
    "# Function to truncate postcode after the first numeric digit\n",
    "def truncate_postcode(postcode):\n",
    "    for i, char in enumerate(postcode):\n",
    "        if char.isdigit():\n",
    "            return postcode[:i]  # Truncate at the position of the first numeric digit\n",
    "    return postcode  # Return the original postcode if no numeric digit is found\n",
    "\n",
    "# Applying the function to create the postcode bands\n",
    "data['postcode'] = data['postcode'].astype(str).apply(truncate_postcode)\n",
    "\n",
    "# Importing postcode mapping to region\n",
    "postcode_values = pd.read_excel('PostcodeRegions.xlsx')\n",
    "\n",
    "# Making it into a dictionary\n",
    "postcode_dict = postcode_values.set_index('Postcode Area')['Region'].to_dict()\n",
    "\n",
    "# Applying the mapping to the dataframe\n",
    "data['Region'] = data['postcode'].map(postcode_dict)\n",
    "\n",
    "# Dictionary for mapping regions to 'England' or 'Other'\n",
    "region_mapping = {\n",
    "    'Greater London': 'England',\n",
    "    'North West': 'England',\n",
    "    'East Midlands': 'England',\n",
    "    'West Midlands': 'England',\n",
    "    'South East': 'England',\n",
    "    'South West': 'England',\n",
    "    'East of England': 'England',\n",
    "    'North East': 'England',\n",
    "    'East England': 'England',\n",
    "    'Scotland': 'Other',\n",
    "    'Wales': 'Other',\n",
    "    'Channel Islands': 'Other',\n",
    "    'Northern Ireland': 'Other',\n",
    "    'Isle of Man': 'Other'\n",
    "}\n",
    "\n",
    "# Creating a new column with the mapped values\n",
    "data['Grouped_Region'] = data['Region'].map(region_mapping)\n",
    "\n",
    "plot_column_counts_with_annotations(data, 'Grouped_Region')"
   ]
  },
  {
   "cell_type": "markdown",
   "metadata": {},
   "source": [
    "# Banded education"
   ]
  },
  {
   "cell_type": "code",
   "execution_count": 53,
   "metadata": {},
   "outputs": [
    {
     "data": {
      "image/png": "[encoded data removed]",
      "text/plain": [
       "<Figure size 640x480 with 1 Axes>"
      ]
     },
     "metadata": {},
     "output_type": "display_data"
    }
   ],
   "source": [
    "# Grouping Education level together\n",
    "education_replacements = {\n",
    "    'primary': 'pre-college',\n",
    "    'secondary': 'pre-college',\n",
    "    'bachelor': 'higher-education',\n",
    "    'masters': 'higher-education',\n",
    "    'phD': 'higher-education',\n",
    "    'other': 'pre-college'\n",
    "}\n",
    "\n",
    "data['education_level_group'] = data['education_level'].map(education_replacements)\n",
    "\n",
    "plot_column_counts_with_annotations(data, 'education_level_group')"
   ]
  },
  {
   "cell_type": "markdown",
   "metadata": {},
   "source": [
    "# Generating final datasets"
   ]
  },
  {
   "cell_type": "code",
   "execution_count": 54,
   "metadata": {},
   "outputs": [],
   "source": [
    "# Order of columns:\n",
    "cols_gov = ['sample_ID', 'gender','birth_year_ranges', 'current_country', 'Grouped_Region', 'weight', 'height', 'blood_group', 'avg_n_drinks_per_week', 'avg_n_cigret_per_week', 'education_level_group', 'n_countries_visited','cc_status']\n",
    "cols_res = ['sample_ID', 'gender','birth_year', 'continent_of_birth', 'current_country', 'Region', 'weight', 'height', 'blood_group', 'avg_n_drinks_per_week', 'avg_n_cigret_per_week', 'education_level', 'n_countries_visited','cc_status']"
   ]
  },
  {
   "cell_type": "code",
   "execution_count": 55,
   "metadata": {},
   "outputs": [],
   "source": [
    "# Generating final dataset for gov/public and researchers\n",
    "final_data_gov = data[cols_gov]\n",
    "final_data_res = data[cols_res]\n",
    "\n",
    "# Exporting\n",
    "final_data_gov.to_csv(\"final_ls_gv.csv\", index=False)\n",
    "final_data_res.to_csv(\"final_ls_res.csv\", index=False)"
   ]
  },
  {
   "cell_type": "markdown",
   "metadata": {},
   "source": [
    "# Calculating k-anonymity"
   ]
  },
  {
   "cell_type": "code",
   "execution_count": 23,
   "metadata": {},
   "outputs": [],
   "source": [
    "def check_k(data, quasi_identifiers, k_we_want):\n",
    "    groups = data.groupby(quasi_identifiers).size()\n",
    "    return groups.min(), groups[groups < k_we_want]\n",
    "\n",
    "def check_simlar_row(data, sample_id):\n",
    "    target = data.loc[data[\"sample_ID\"] == sample_id]\n",
    "    value_length = len(data.loc[\n",
    "        (data[\"gender\"] == target[\"gender\"].to_string(index=False)) & \n",
    "        (data[\"birth_year_ranges\"] == target[\"birth_year_ranges\"].to_string(index=False)) & \n",
    "        (data[\"continent_of_birth\"] == target[\"continent_of_birth\"].to_string(index=False)) & \n",
    "        (data[\"education_level_group\"] == target[\"education_level_group\"].to_string(index=False)) & \n",
    "        (data[\"Grouped_Region\"] == target[\"Grouped_Region\"].to_string(index=False))\n",
    "    ])\n",
    "    return value_length\n",
    "\n",
    "def series_to_dataframe(series, columns):\n",
    "    dataframe = pd.DataFrame(columns=columns)\n",
    "    for index, row in series.items():\n",
    "        new_row = pd.DataFrame([index], columns=dataframe.columns)\n",
    "        dataframe = pd.concat([dataframe, new_row], ignore_index=True)\n",
    "    return dataframe\n",
    "\n",
    "def flatten(nest_list):\n",
    "    return [item for item_list in nest_list for item in item_list]\n",
    "\n",
    "def get_ID(target_data, mask_data):\n",
    "    sample_id_list = []\n",
    "    for key, item in mask_data.iterrows():\n",
    "        sample_id = target_data.loc[\n",
    "            (target_data[\"gender\"] == item[\"gender\"]) & \n",
    "            (target_data[\"birth_year_ranges\"] == item[\"birth_year_ranges\"]) & \n",
    "            (target_data[\"continent_of_birth\"] == item[\"continent_of_birth\"]) & \n",
    "            (target_data[\"education_level_group\"] == item[\"education_level_group\"]) & \n",
    "            (target_data[\"Grouped_Region\"] == item[\"Grouped_Region\"])\n",
    "        ,\"sample_ID\"]\n",
    "        sample_id = sample_id.to_string(index=False).split(\"\\n\")\n",
    "        sample_id_list.append(sample_id)\n",
    "\n",
    "    mask_data[\"sample_ID\"] = sample_id_list\n",
    "    return mask_data, sample_id_list\n",
    "\n",
    "def transfer_to_na(target_data, mask_data, variable_list):\n",
    "    for key, item in mask_data.iterrows():\n",
    "        sample_id = item[\"sample_ID\"]\n",
    "        if isinstance(sample_id, list):\n",
    "            for index in sample_id:\n",
    "                target_data.loc[target_data[\"sample_ID\"] == index, variable_list] = \"NA\"\n",
    "        else:\n",
    "            target_data.loc[target_data[\"sample_ID\"] == sample_id, variable_list] = \"NA\"\n",
    "    return target_data"
   ]
  },
  {
   "cell_type": "code",
   "execution_count": 56,
   "metadata": {},
   "outputs": [],
   "source": [
    "test = pd.read_csv('final_ls_gv.csv')\n",
    "np.random.seed(2024)"
   ]
  },
  {
   "cell_type": "code",
   "execution_count": null,
   "metadata": {},
   "outputs": [],
   "source": []
  },
  {
   "cell_type": "code",
   "execution_count": 57,
   "metadata": {},
   "outputs": [
    {
     "name": "stdout",
     "output_type": "stream",
     "text": [
      "4\n"
     ]
    },
    {
     "data": {
      "text/plain": [
       "Series([], dtype: int64)"
      ]
     },
     "execution_count": 57,
     "metadata": {},
     "output_type": "execute_result"
    }
   ],
   "source": [
    "quasi_identifiers_gov = ['gender', 'birth_year_ranges','education_level_group','Grouped_Region']\n",
    "k_we_want = 2\n",
    "min_num, only_one = check_k(test, quasi_identifiers_gov, k_we_want)\n",
    "print(min_num)\n",
    "only_one"
   ]
  },
  {
   "cell_type": "code",
   "execution_count": 19,
   "metadata": {},
   "outputs": [
    {
     "ename": "NameError",
     "evalue": "name 'check_k' is not defined",
     "output_type": "error",
     "traceback": [
      "\u001b[0;31m---------------------------------------------------------------------------\u001b[0m",
      "\u001b[0;31mNameError\u001b[0m                                 Traceback (most recent call last)",
      "Cell \u001b[0;32mIn[19], line 5\u001b[0m\n\u001b[1;32m      2\u001b[0m min_num \u001b[38;5;241m=\u001b[39m \u001b[38;5;241m0\u001b[39m\n\u001b[1;32m      3\u001b[0m k_we_want \u001b[38;5;241m=\u001b[39m \u001b[38;5;241m2\u001b[39m\n\u001b[0;32m----> 5\u001b[0m min_num, only_one \u001b[38;5;241m=\u001b[39m check_k(test, quasi_identifiers_gov, k_we_want)\n\u001b[1;32m      6\u001b[0m data_need_mask \u001b[38;5;241m=\u001b[39m series_to_dataframe(only_one, quasi_identifiers_gov)\n\u001b[1;32m      7\u001b[0m data_need_mask, sample_id_list \u001b[38;5;241m=\u001b[39m get_ID(test, data_need_mask)\n",
      "\u001b[0;31mNameError\u001b[0m: name 'check_k' is not defined"
     ]
    }
   ],
   "source": [
    "quasi_identifiers_gov = ['gender', 'birth_year_ranges', 'continent_of_birth','education_level_group','Grouped_Region']\n",
    "min_num = 0\n",
    "k_we_want = 2\n",
    "\n",
    "min_num, only_one = check_k(test, quasi_identifiers_gov, k_we_want)\n",
    "data_need_mask = series_to_dataframe(only_one, quasi_identifiers_gov)\n",
    "data_need_mask, sample_id_list = get_ID(test, data_need_mask)\n",
    "value_list = data_need_mask.value_counts([\"gender\",\"birth_year_ranges\",\"education_level_group\"])\n",
    "\n",
    "for item, value in value_list.items():\n",
    "    num_need = k_we_want - value\n",
    "    if num_need <= 0:\n",
    "        continue\n",
    "    else:\n",
    "        for i in range(num_need):\n",
    "            extract_row = test.query('(gender == \"{}\") & (birth_year_ranges == \"{}\") & (education_level_group == \"{}\")'.format(item[0], item[1], item[2])).sample(n=1)\n",
    "            value_length = check_simlar_row(test, extract_row[\"sample_ID\"].to_string(index=False))\n",
    "            num_my_best = 0\n",
    "            while (value_length <= k_we_want & num_my_best < 2):\n",
    "                num_my_best += 1\n",
    "                extract_row = test.query('(gender == \"{}\") & (birth_year_ranges == \"{}\") & (education_level_group == \"{}\")'.format(item[0], item[1], item[2])).sample(n=1)\n",
    "                value_length = check_simlar_row(test, extract_row[\"sample_ID\"].to_string(index=False))\n",
    "\n",
    "            extract_row = extract_row[['sample_ID', 'gender', 'birth_year_ranges', 'continent_of_birth','education_level_group','Grouped_Region']]\n",
    "            data_need_mask = pd.concat([data_need_mask, extract_row], ignore_index=True)\n",
    "\n",
    "test = transfer_to_na(test, data_need_mask, [\"continent_of_birth\", \"Grouped_Region\"])"
   ]
  },
  {
   "cell_type": "code",
   "execution_count": 563,
   "metadata": {},
   "outputs": [
    {
     "name": "stdout",
     "output_type": "stream",
     "text": [
      "2\n"
     ]
    }
   ],
   "source": [
    "min_num, only_one = check_k(test, quasi_identifiers_gov, k_we_want)\n",
    "print(min_num)"
   ]
  },
  {
   "cell_type": "code",
   "execution_count": 564,
   "metadata": {},
   "outputs": [
    {
     "name": "stdout",
     "output_type": "stream",
     "text": [
      "2 58\n"
     ]
    }
   ],
   "source": [
    "k_we_want = 3\n",
    "min_num, only_two = check_k(test, quasi_identifiers_gov, k_we_want)\n",
    "print(min_num, len(only_two))"
   ]
  },
  {
   "cell_type": "code",
   "execution_count": 565,
   "metadata": {},
   "outputs": [],
   "source": [
    "data_need_mask = series_to_dataframe(only_two, quasi_identifiers_gov)\n",
    "data_need_mask, sample_id_list = get_ID(test, data_need_mask)\n",
    "value_list = data_need_mask.value_counts([\"gender\",\"birth_year_ranges\",\"education_level_group\"])*2\n",
    "sample_id_list_flat = flatten(sample_id_list)"
   ]
  },
  {
   "cell_type": "code",
   "execution_count": 566,
   "metadata": {},
   "outputs": [
    {
     "name": "stdout",
     "output_type": "stream",
     "text": [
      "4\n",
      "4\n",
      "2\n"
     ]
    }
   ],
   "source": [
    "for item, value in value_list.items():\n",
    "    num_need = k_we_want - value\n",
    "    if num_need <= 0:\n",
    "        continue\n",
    "    else:\n",
    "        for i in range(num_need):\n",
    "            num_my_best = 0\n",
    "            extract_row = test.query('(gender == \"{}\") & (birth_year_ranges == \"{}\") & (education_level_group == \"{}\")'.format(item[0], item[1], item[2])).sample(n=1)\n",
    "            extract_id = extract_row[\"sample_ID\"].to_string(index=False)\n",
    "            value_length = check_simlar_row(test, extract_row[\"sample_ID\"].to_string(index=False))\n",
    "            \n",
    "            while ((value_length <= (k_we_want + num_need)) & (extract_id not in sample_id_list_flat) & (num_my_best <= 2)):\n",
    "                num_my_best += 1\n",
    "                extract_row = test.query('(gender == \"{}\") & (birth_year_ranges == \"{}\") & (education_level_group == \"{}\")'.format(item[0], item[1], item[2])).sample(n=1)\n",
    "                value_length = check_simlar_row(test, extract_row[\"sample_ID\"].to_string(index=False))\n",
    "            else:\n",
    "                if num_my_best == 3:\n",
    "                    extract_row = test.query('(gender == \"{}\") & (birth_year_ranges == \"{}\") & (education_level_group == \"{}\")'.format(item[0], item[1], item[2])).sample(n=value_length)\n",
    "                    print(len(extract_row))\n",
    "\n",
    "            extract_row = extract_row[['sample_ID', 'gender', 'birth_year_ranges', 'continent_of_birth','education_level_group','Grouped_Region']]\n",
    "            data_need_mask = pd.concat([data_need_mask, extract_row], ignore_index=True)"
   ]
  },
  {
   "cell_type": "code",
   "execution_count": 567,
   "metadata": {},
   "outputs": [],
   "source": [
    "test = transfer_to_na(test, data_need_mask, [\"continent_of_birth\", \"Grouped_Region\"])"
   ]
  },
  {
   "cell_type": "code",
   "execution_count": 568,
   "metadata": {},
   "outputs": [
    {
     "name": "stdout",
     "output_type": "stream",
     "text": [
      "continent_of_birth\n",
      "Africa     192\n",
      "Europe     189\n",
      "Asia       179\n",
      "America    174\n",
      "NA         167\n",
      "Oceania     99\n",
      "Name: count, dtype: int64\n",
      "Grouped_Region\n",
      "England    763\n",
      "NA         167\n",
      "Other       70\n",
      "Name: count, dtype: int64\n"
     ]
    }
   ],
   "source": [
    "print(test[\"continent_of_birth\"].value_counts())\n",
    "print(test[\"Grouped_Region\"].value_counts())"
   ]
  },
  {
   "cell_type": "code",
   "execution_count": 569,
   "metadata": {},
   "outputs": [],
   "source": [
    "min_num, still_two = check_k(test, quasi_identifiers_gov, 3)"
   ]
  },
  {
   "cell_type": "code",
   "execution_count": 570,
   "metadata": {},
   "outputs": [
    {
     "data": {
      "text/plain": [
       "gender  birth_year_ranges  continent_of_birth  education_level_group  Grouped_Region\n",
       "F       1955-1964          America             other                  England           2\n",
       "M       1955-1964          America             other                  England           2\n",
       "dtype: int64"
      ]
     },
     "execution_count": 570,
     "metadata": {},
     "output_type": "execute_result"
    }
   ],
   "source": [
    "still_two"
   ]
  },
  {
   "cell_type": "code",
   "execution_count": 571,
   "metadata": {},
   "outputs": [],
   "source": [
    "data_need_mask = series_to_dataframe(still_two, quasi_identifiers_gov)\n",
    "data_need_mask, sample_id_list = get_ID(test, data_need_mask)\n",
    "sample_id_list_flat = flatten(sample_id_list)"
   ]
  },
  {
   "cell_type": "code",
   "execution_count": 572,
   "metadata": {},
   "outputs": [],
   "source": [
    "test = transfer_to_na(test, data_need_mask, [\"gender\"])"
   ]
  },
  {
   "cell_type": "code",
   "execution_count": 573,
   "metadata": {},
   "outputs": [
    {
     "name": "stdout",
     "output_type": "stream",
     "text": [
      "156\n",
      "0\n"
     ]
    }
   ],
   "source": [
    "groups = test.groupby(quasi_identifiers_gov).size()\n",
    "print(len(groups))\n",
    "print(len(groups[groups < 3]))"
   ]
  },
  {
   "cell_type": "code",
   "execution_count": 574,
   "metadata": {},
   "outputs": [
    {
     "name": "stdout",
     "output_type": "stream",
     "text": [
      "gender\n",
      "M     499\n",
      "F     497\n",
      "NA      4\n",
      "Name: count, dtype: int64\n",
      "continent_of_birth\n",
      "Africa     192\n",
      "Europe     189\n",
      "Asia       179\n",
      "America    174\n",
      "NA         167\n",
      "Oceania     99\n",
      "Name: count, dtype: int64\n",
      "Grouped_Region\n",
      "England    763\n",
      "NA         167\n",
      "Other       70\n",
      "Name: count, dtype: int64\n"
     ]
    }
   ],
   "source": [
    "print(test[\"gender\"].value_counts())\n",
    "print(test[\"continent_of_birth\"].value_counts())\n",
    "print(test[\"Grouped_Region\"].value_counts())"
   ]
  },
  {
   "cell_type": "code",
   "execution_count": 575,
   "metadata": {},
   "outputs": [],
   "source": [
    "test.to_csv(\"gv_k_3.csv\", index=False)"
   ]
  }
 ],
 "metadata": {
  "kernelspec": {
   "display_name": "base",
   "language": "python",
   "name": "python3"
  },
  "language_info": {
   "codemirror_mode": {
    "name": "ipython",
    "version": 3
   },
   "file_extension": ".py",
   "mimetype": "text/x-python",
   "name": "python",
   "nbconvert_exporter": "python",
   "pygments_lexer": "ipython3",
   "version": "3.11.5"
  }
 },
 "nbformat": 4,
 "nbformat_minor": 2
}
