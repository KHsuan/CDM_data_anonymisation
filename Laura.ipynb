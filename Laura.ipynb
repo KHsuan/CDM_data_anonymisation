{
 "cells": [
  {
   "cell_type": "markdown",
   "metadata": {},
   "source": [
    "# Setting up"
   ]
  },
  {
   "cell_type": "code",
   "execution_count": 2,
   "metadata": {},
   "outputs": [],
   "source": [
    "import random\n",
    "import pandas as pd\n",
    "import numpy as np\n",
    "import time\n",
    "import matplotlib.pyplot as plt\n",
    "import datetime\n",
    "import pycountry_convert as pc"
   ]
  },
  {
   "cell_type": "code",
   "execution_count": 6,
   "metadata": {},
   "outputs": [
    {
     "data": {
      "text/html": [
       "<div>\n",
       "<style scoped>\n",
       "    .dataframe tbody tr th:only-of-type {\n",
       "        vertical-align: middle;\n",
       "    }\n",
       "\n",
       "    .dataframe tbody tr th {\n",
       "        vertical-align: top;\n",
       "    }\n",
       "\n",
       "    .dataframe thead th {\n",
       "        text-align: right;\n",
       "    }\n",
       "</style>\n",
       "<table border=\"1\" class=\"dataframe\">\n",
       "  <thead>\n",
       "    <tr style=\"text-align: right;\">\n",
       "      <th></th>\n",
       "      <th>given_name</th>\n",
       "      <th>surname</th>\n",
       "      <th>gender</th>\n",
       "      <th>birthdate</th>\n",
       "      <th>country_of_birth</th>\n",
       "      <th>current_country</th>\n",
       "      <th>phone_number</th>\n",
       "      <th>postcode</th>\n",
       "      <th>national_insurance_number</th>\n",
       "      <th>bank_account_number</th>\n",
       "      <th>cc_status</th>\n",
       "      <th>weight</th>\n",
       "      <th>height</th>\n",
       "      <th>blood_group</th>\n",
       "      <th>avg_n_drinks_per_week</th>\n",
       "      <th>avg_n_cigret_per_week</th>\n",
       "      <th>education_level</th>\n",
       "      <th>n_countries_visited</th>\n",
       "    </tr>\n",
       "  </thead>\n",
       "  <tbody>\n",
       "    <tr>\n",
       "      <th>0</th>\n",
       "      <td>Lorraine</td>\n",
       "      <td>Reed</td>\n",
       "      <td>F</td>\n",
       "      <td>05/07/1984</td>\n",
       "      <td>Armenia</td>\n",
       "      <td>United Kingdom</td>\n",
       "      <td>(07700) 900876</td>\n",
       "      <td>LS5 8FN</td>\n",
       "      <td>ZZ 19 48 92 T</td>\n",
       "      <td>51157818</td>\n",
       "      <td>0</td>\n",
       "      <td>74.2</td>\n",
       "      <td>1.73</td>\n",
       "      <td>B+</td>\n",
       "      <td>6.5</td>\n",
       "      <td>218.8</td>\n",
       "      <td>phD</td>\n",
       "      <td>48</td>\n",
       "    </tr>\n",
       "    <tr>\n",
       "      <th>1</th>\n",
       "      <td>Edward</td>\n",
       "      <td>Williams</td>\n",
       "      <td>M</td>\n",
       "      <td>17/06/1997</td>\n",
       "      <td>Northern Mariana Islands</td>\n",
       "      <td>United Kingdom</td>\n",
       "      <td>(07700) 900 877</td>\n",
       "      <td>M0U 1RA</td>\n",
       "      <td>ZZ 753513 T</td>\n",
       "      <td>103328715</td>\n",
       "      <td>0</td>\n",
       "      <td>69.4</td>\n",
       "      <td>1.74</td>\n",
       "      <td>O-</td>\n",
       "      <td>0.7</td>\n",
       "      <td>43.6</td>\n",
       "      <td>primary</td>\n",
       "      <td>42</td>\n",
       "    </tr>\n",
       "    <tr>\n",
       "      <th>2</th>\n",
       "      <td>Hannah</td>\n",
       "      <td>Turner</td>\n",
       "      <td>F</td>\n",
       "      <td>15/06/1990</td>\n",
       "      <td>Venezuela</td>\n",
       "      <td>United Kingdom</td>\n",
       "      <td>+447700 900148</td>\n",
       "      <td>SO1 8HZ</td>\n",
       "      <td>ZZ 947196 T</td>\n",
       "      <td>69342327</td>\n",
       "      <td>0</td>\n",
       "      <td>98.6</td>\n",
       "      <td>1.88</td>\n",
       "      <td>B+</td>\n",
       "      <td>7.8</td>\n",
       "      <td>59.1</td>\n",
       "      <td>bachelor</td>\n",
       "      <td>9</td>\n",
       "    </tr>\n",
       "    <tr>\n",
       "      <th>3</th>\n",
       "      <td>Christine</td>\n",
       "      <td>Osborne</td>\n",
       "      <td>F</td>\n",
       "      <td>29/07/2000</td>\n",
       "      <td>Eritrea</td>\n",
       "      <td>United Kingdom</td>\n",
       "      <td>+447700 900112</td>\n",
       "      <td>B18 8LW</td>\n",
       "      <td>ZZ 39 69 47 T</td>\n",
       "      <td>85159170</td>\n",
       "      <td>0</td>\n",
       "      <td>62.0</td>\n",
       "      <td>1.56</td>\n",
       "      <td>O+</td>\n",
       "      <td>4.6</td>\n",
       "      <td>284.2</td>\n",
       "      <td>primary</td>\n",
       "      <td>32</td>\n",
       "    </tr>\n",
       "    <tr>\n",
       "      <th>4</th>\n",
       "      <td>Francesca</td>\n",
       "      <td>Yates</td>\n",
       "      <td>F</td>\n",
       "      <td>04/11/1968</td>\n",
       "      <td>Ecuador</td>\n",
       "      <td>United Kingdom</td>\n",
       "      <td>07700 900 413</td>\n",
       "      <td>TQ2 6BE</td>\n",
       "      <td>ZZ 30 98 91 T</td>\n",
       "      <td>11399166</td>\n",
       "      <td>0</td>\n",
       "      <td>96.3</td>\n",
       "      <td>1.81</td>\n",
       "      <td>A-</td>\n",
       "      <td>4.4</td>\n",
       "      <td>348.8</td>\n",
       "      <td>secondary</td>\n",
       "      <td>34</td>\n",
       "    </tr>\n",
       "    <tr>\n",
       "      <th>5</th>\n",
       "      <td>Joanne</td>\n",
       "      <td>Middleton</td>\n",
       "      <td>F</td>\n",
       "      <td>15/10/1963</td>\n",
       "      <td>Argentina</td>\n",
       "      <td>United Kingdom</td>\n",
       "      <td>+44(0)7700 900 032</td>\n",
       "      <td>CM7H 0XS</td>\n",
       "      <td>ZZ 141314 T</td>\n",
       "      <td>66208707</td>\n",
       "      <td>0</td>\n",
       "      <td>43.4</td>\n",
       "      <td>1.59</td>\n",
       "      <td>A-</td>\n",
       "      <td>5.7</td>\n",
       "      <td>219.3</td>\n",
       "      <td>other</td>\n",
       "      <td>7</td>\n",
       "    </tr>\n",
       "    <tr>\n",
       "      <th>6</th>\n",
       "      <td>Joel</td>\n",
       "      <td>Spencer</td>\n",
       "      <td>M</td>\n",
       "      <td>08/07/1982</td>\n",
       "      <td>Cook Islands</td>\n",
       "      <td>United Kingdom</td>\n",
       "      <td>(07700) 900579</td>\n",
       "      <td>L02 5WL</td>\n",
       "      <td>ZZ 97 20 76 T</td>\n",
       "      <td>108456420</td>\n",
       "      <td>0</td>\n",
       "      <td>77.5</td>\n",
       "      <td>1.55</td>\n",
       "      <td>B+</td>\n",
       "      <td>2.4</td>\n",
       "      <td>79.5</td>\n",
       "      <td>secondary</td>\n",
       "      <td>34</td>\n",
       "    </tr>\n",
       "    <tr>\n",
       "      <th>7</th>\n",
       "      <td>Leonard</td>\n",
       "      <td>Marshall</td>\n",
       "      <td>M</td>\n",
       "      <td>20/01/1987</td>\n",
       "      <td>Saint Vincent and the Grenadines</td>\n",
       "      <td>United Kingdom</td>\n",
       "      <td>07700 900508</td>\n",
       "      <td>CR3 5ZN</td>\n",
       "      <td>ZZ 599246 T</td>\n",
       "      <td>126109351</td>\n",
       "      <td>0</td>\n",
       "      <td>59.0</td>\n",
       "      <td>1.89</td>\n",
       "      <td>A+</td>\n",
       "      <td>8.4</td>\n",
       "      <td>48.0</td>\n",
       "      <td>other</td>\n",
       "      <td>24</td>\n",
       "    </tr>\n",
       "    <tr>\n",
       "      <th>8</th>\n",
       "      <td>Tracy</td>\n",
       "      <td>Smith</td>\n",
       "      <td>F</td>\n",
       "      <td>07/04/1999</td>\n",
       "      <td>Kiribati</td>\n",
       "      <td>United Kingdom</td>\n",
       "      <td>+447700 900 960</td>\n",
       "      <td>WR96 2TD</td>\n",
       "      <td>ZZ278789T</td>\n",
       "      <td>10754702</td>\n",
       "      <td>0</td>\n",
       "      <td>83.1</td>\n",
       "      <td>1.42</td>\n",
       "      <td>A+</td>\n",
       "      <td>1.2</td>\n",
       "      <td>148.1</td>\n",
       "      <td>secondary</td>\n",
       "      <td>17</td>\n",
       "    </tr>\n",
       "    <tr>\n",
       "      <th>9</th>\n",
       "      <td>Gavin</td>\n",
       "      <td>Kay</td>\n",
       "      <td>M</td>\n",
       "      <td>21/12/1998</td>\n",
       "      <td>Belize</td>\n",
       "      <td>United Kingdom</td>\n",
       "      <td>+44(0)7700900206</td>\n",
       "      <td>KT5A 0AW</td>\n",
       "      <td>ZZ 131934 T</td>\n",
       "      <td>52176102</td>\n",
       "      <td>0</td>\n",
       "      <td>80.0</td>\n",
       "      <td>1.74</td>\n",
       "      <td>A+</td>\n",
       "      <td>5.2</td>\n",
       "      <td>47.0</td>\n",
       "      <td>bachelor</td>\n",
       "      <td>47</td>\n",
       "    </tr>\n",
       "  </tbody>\n",
       "</table>\n",
       "</div>"
      ],
      "text/plain": [
       "  given_name    surname gender   birthdate                  country_of_birth  \\\n",
       "0   Lorraine       Reed      F  05/07/1984                           Armenia   \n",
       "1     Edward   Williams      M  17/06/1997          Northern Mariana Islands   \n",
       "2     Hannah     Turner      F  15/06/1990                         Venezuela   \n",
       "3  Christine    Osborne      F  29/07/2000                           Eritrea   \n",
       "4  Francesca      Yates      F  04/11/1968                           Ecuador   \n",
       "5     Joanne  Middleton      F  15/10/1963                         Argentina   \n",
       "6       Joel    Spencer      M  08/07/1982                      Cook Islands   \n",
       "7    Leonard   Marshall      M  20/01/1987  Saint Vincent and the Grenadines   \n",
       "8      Tracy      Smith      F  07/04/1999                          Kiribati   \n",
       "9      Gavin        Kay      M  21/12/1998                            Belize   \n",
       "\n",
       "  current_country        phone_number  postcode national_insurance_number  \\\n",
       "0  United Kingdom      (07700) 900876   LS5 8FN             ZZ 19 48 92 T   \n",
       "1  United Kingdom     (07700) 900 877   M0U 1RA               ZZ 753513 T   \n",
       "2  United Kingdom      +447700 900148   SO1 8HZ               ZZ 947196 T   \n",
       "3  United Kingdom      +447700 900112   B18 8LW             ZZ 39 69 47 T   \n",
       "4  United Kingdom       07700 900 413   TQ2 6BE             ZZ 30 98 91 T   \n",
       "5  United Kingdom  +44(0)7700 900 032  CM7H 0XS               ZZ 141314 T   \n",
       "6  United Kingdom      (07700) 900579   L02 5WL             ZZ 97 20 76 T   \n",
       "7  United Kingdom        07700 900508   CR3 5ZN               ZZ 599246 T   \n",
       "8  United Kingdom     +447700 900 960  WR96 2TD                 ZZ278789T   \n",
       "9  United Kingdom    +44(0)7700900206  KT5A 0AW               ZZ 131934 T   \n",
       "\n",
       "   bank_account_number  cc_status  weight  height blood_group  \\\n",
       "0             51157818          0    74.2    1.73          B+   \n",
       "1            103328715          0    69.4    1.74          O-   \n",
       "2             69342327          0    98.6    1.88          B+   \n",
       "3             85159170          0    62.0    1.56          O+   \n",
       "4             11399166          0    96.3    1.81          A-   \n",
       "5             66208707          0    43.4    1.59          A-   \n",
       "6            108456420          0    77.5    1.55          B+   \n",
       "7            126109351          0    59.0    1.89          A+   \n",
       "8             10754702          0    83.1    1.42          A+   \n",
       "9             52176102          0    80.0    1.74          A+   \n",
       "\n",
       "   avg_n_drinks_per_week  avg_n_cigret_per_week education_level  \\\n",
       "0                    6.5                  218.8             phD   \n",
       "1                    0.7                   43.6         primary   \n",
       "2                    7.8                   59.1        bachelor   \n",
       "3                    4.6                  284.2         primary   \n",
       "4                    4.4                  348.8       secondary   \n",
       "5                    5.7                  219.3           other   \n",
       "6                    2.4                   79.5       secondary   \n",
       "7                    8.4                   48.0           other   \n",
       "8                    1.2                  148.1       secondary   \n",
       "9                    5.2                   47.0        bachelor   \n",
       "\n",
       "   n_countries_visited  \n",
       "0                   48  \n",
       "1                   42  \n",
       "2                    9  \n",
       "3                   32  \n",
       "4                   34  \n",
       "5                    7  \n",
       "6                   34  \n",
       "7                   24  \n",
       "8                   17  \n",
       "9                   47  "
      ]
     },
     "execution_count": 6,
     "metadata": {},
     "output_type": "execute_result"
    }
   ],
   "source": [
    "data = pd.read_csv('customer_information.csv')\n",
    "data.head(10)"
   ]
  },
  {
   "cell_type": "markdown",
   "metadata": {},
   "source": [
    "# SampleID"
   ]
  },
  {
   "cell_type": "code",
   "execution_count": 22,
   "metadata": {},
   "outputs": [],
   "source": [
    "def generate_sample_id(index):\n",
    "    return f\"sid_{str(index + 1).zfill(5)}\"\n",
    "\n",
    "data['sample_ID'] = data.index.to_series().apply(generate_sample_id)"
   ]
  },
  {
   "cell_type": "markdown",
   "metadata": {},
   "source": [
    "# Banding birth date to birth year"
   ]
  },
  {
   "cell_type": "code",
   "execution_count": 7,
   "metadata": {},
   "outputs": [
    {
     "data": {
      "text/plain": [
       "birth_year\n",
       "1980    30\n",
       "1957    28\n",
       "1961    27\n",
       "1962    27\n",
       "1981    27\n",
       "1983    26\n",
       "1996    26\n",
       "1978    26\n",
       "1998    25\n",
       "1963    25\n",
       "1977    25\n",
       "1994    25\n",
       "1956    25\n",
       "1989    25\n",
       "1968    24\n",
       "1971    24\n",
       "1960    24\n",
       "1997    22\n",
       "1990    22\n",
       "1958    21\n",
       "1988    21\n",
       "1967    21\n",
       "1993    20\n",
       "2002    20\n",
       "1972    20\n",
       "1964    20\n",
       "1976    20\n",
       "1973    20\n",
       "1995    20\n",
       "1986    19\n",
       "1979    19\n",
       "2001    19\n",
       "1959    19\n",
       "1975    18\n",
       "1985    18\n",
       "1987    18\n",
       "1974    18\n",
       "1970    18\n",
       "1982    17\n",
       "2003    16\n",
       "2000    16\n",
       "1992    15\n",
       "1966    15\n",
       "1969    15\n",
       "1999    13\n",
       "1984    12\n",
       "1965    12\n",
       "1991    12\n",
       "1955     5\n",
       "Name: count, dtype: int64"
      ]
     },
     "execution_count": 7,
     "metadata": {},
     "output_type": "execute_result"
    }
   ],
   "source": [
    "# Birth years\n",
    "birthDate = pd.to_datetime(data.birthdate, format='mixed')\n",
    "data['birth_year'] = pd.DatetimeIndex(birthDate).year\n",
    "data.head(10)\n",
    "\n",
    "# finding number of unique values per band\n",
    "unique_birthdate_counts = data['birth_year'].value_counts()\n",
    "unique_birthdate_counts\n",
    "# potential problem: only 5 1955"
   ]
  },
  {
   "cell_type": "code",
   "execution_count": 9,
   "metadata": {},
   "outputs": [
    {
     "name": "stdout",
     "output_type": "stream",
     "text": [
      "birth_year_ranges\n",
      "1975-1990    321\n",
      "1960-1975    310\n",
      "1990-2005    271\n",
      "1955-1960     98\n",
      "Name: count, dtype: int64\n"
     ]
    }
   ],
   "source": [
    "# Looking at min and max of birth year\n",
    "min_birthyear = data['birth_year'].min() # 1955\n",
    "max_birthyear = data['birth_year'].max() # 2003\n",
    "\n",
    "# Creating groups with 15 years range\n",
    "birthyear_bins = [\"1955\", \"1960\", \"1975\", \"1990\", \"2005\"]\n",
    "birthyear_labels = [\"1955-1960\", \"1960-1975\", \"1975-1990\", \"1990-2005\"]\n",
    "\n",
    "# Banding heights into specified ranges\n",
    "data['birth_year_ranges'] = pd.cut(data['birth_year'], bins=birthyear_bins, labels=birthyear_labels, right=False)\n",
    "\n",
    "# Showing counts of height ranges\n",
    "counts_birthyear = data['birth_year_ranges'].value_counts()\n",
    "count_in_order_birthyear = [counts_birthyear[label] for label in birthyear_labels]\n",
    "print(counts_birthyear)"
   ]
  },
  {
   "cell_type": "code",
   "execution_count": 11,
   "metadata": {},
   "outputs": [
    {
     "data": {
      "image/png": "[encoded data removed]",
      "text/plain": [
       "<Figure size 640x480 with 1 Axes>"
      ]
     },
     "metadata": {},
     "output_type": "display_data"
    }
   ],
   "source": [
    "plt.hist(data[\"birth_year_ranges\"])\n",
    "plt.xlabel(\"Birth year\")\n",
    "plt.ylabel(\"People\")\n",
    "plt.show()"
   ]
  },
  {
   "cell_type": "markdown",
   "metadata": {},
   "source": [
    "# Banding country to continent"
   ]
  },
  {
   "cell_type": "code",
   "execution_count": 13,
   "metadata": {},
   "outputs": [],
   "source": [
    "# Dictionary to manually map countries that could not be mapped via pycountry_convert\n",
    "continent_mapping = {\n",
    "    'Korea': 'Asia',\n",
    "    'Western Sahara': 'Africa',\n",
    "    'Slovakia (Slovak Republic)': 'Europe',\n",
    "    'Saint Barthelemy': 'North America',\n",
    "    'Pitcairn Islands': 'Oceania',\n",
    "    'Holy See': 'Europe',\n",
    "    'Reunion': 'Africa',\n",
    "    'United States Minor Outlying Islands': 'North America',\n",
    "    'Antarctica (the territory South of 60 deg S)': 'Antarctica',\n",
    "    'Svalbard & Jan Mayen Islands': 'Europe',\n",
    "    'Bouvet Island (Bouvetoya)': 'Antarctica',\n",
    "    'Saint Helena': 'Africa',\n",
    "    \"Cote d'Ivoire\": 'Africa',\n",
    "    'British Indian Ocean Territory (Chagos Archipelago)': 'Asia',\n",
    "    'Palestinian Territory': 'Asia',\n",
    "    'Libyan Arab Jamahiriya': 'Africa',\n",
    "    'Timor-Leste': 'Asia',\n",
    "    'Netherlands Antilles': 'North America',\n",
    "    'Holy See (Vatican City State)': 'Europe'\n",
    "}\n",
    "\n",
    "# Function to map country to continent\n",
    "def country_to_continent(country_name):\n",
    "    try:\n",
    "        country_code = pc.country_name_to_country_alpha2(country_name)\n",
    "        continent_code = pc.country_alpha2_to_continent_code(country_code)\n",
    "        continent_name = pc.convert_continent_code_to_continent_name(continent_code)\n",
    "        return continent_name\n",
    "    except:\n",
    "        if country_name in continent_mapping:\n",
    "            return continent_mapping[country_name]\n",
    "        else:\n",
    "            return 'Unknown'\n"
   ]
  },
  {
   "cell_type": "code",
   "execution_count": 53,
   "metadata": {},
   "outputs": [
    {
     "data": {
      "text/plain": [
       "continent_of_birth\n",
       "Europe           228\n",
       "Africa           225\n",
       "Asia             206\n",
       "North America    147\n",
       "Oceania          117\n",
       "South America     66\n",
       "Antarctica        11\n",
       "Name: count, dtype: int64"
      ]
     },
     "execution_count": 53,
     "metadata": {},
     "output_type": "execute_result"
    }
   ],
   "source": [
    "data['continent_of_birth'] = data['country_of_birth'].apply(country_to_continent)\n",
    "data.head(10)\n",
    "\n",
    "# finding the number of unique continent\n",
    "unique_continent_counts = data['continent_of_birth'].value_counts()\n",
    "unique_continent_counts\n",
    "# potential problem: antartica has 3 counts and there are 72 unknowns - need to go through unknowns"
   ]
  },
  {
   "cell_type": "code",
   "execution_count": 43,
   "metadata": {},
   "outputs": [
    {
     "name": "stdout",
     "output_type": "stream",
     "text": [
      "continent_of_birth\n",
      "America    341\n",
      "Europe     228\n",
      "Africa     225\n",
      "Asia       206\n",
      "Name: count, dtype: int64\n"
     ]
    }
   ],
   "source": [
    "# Grouping Americas together and antarctica to oceania\n",
    "data['continent_of_birth'].replace('Antarctica', 'Oceania', inplace = True)\n",
    "data['continent_of_birth'].replace('South America', 'America', inplace = True)\n",
    "data['continent_of_birth'].replace('North America', 'America', inplace = True)\n",
    "data['continent_of_birth'].replace('Oceania', 'America', inplace = True)\n",
    "\n",
    "# finding the number of unique continent\n",
    "unique_continent_counts = data['continent_of_birth'].value_counts()\n",
    "print(unique_continent_counts)"
   ]
  },
  {
   "cell_type": "code",
   "execution_count": 36,
   "metadata": {},
   "outputs": [
    {
     "name": "stdout",
     "output_type": "stream",
     "text": [
      "                                      country_of_birth continent_of_birth\n",
      "14                                               Korea            Unknown\n",
      "17                               Palestinian Territory            Unknown\n",
      "18                                    Saint Barthelemy            Unknown\n",
      "21                                        Saint Helena            Unknown\n",
      "22                                               Korea            Unknown\n",
      "..                                                 ...                ...\n",
      "910  British Indian Ocean Territory (Chagos Archipe...            Unknown\n",
      "915               United States Minor Outlying Islands            Unknown\n",
      "933       Antarctica (the territory South of 60 deg S)            Unknown\n",
      "950                                            Reunion            Unknown\n",
      "966                                              Korea            Unknown\n",
      "\n",
      "[72 rows x 2 columns]\n"
     ]
    },
    {
     "data": {
      "text/plain": [
       "country_of_birth\n",
       "Korea                                                  12\n",
       "Western Sahara                                          6\n",
       "Slovakia (Slovak Republic)                              6\n",
       "Saint Barthelemy                                        5\n",
       "Pitcairn Islands                                        5\n",
       "Holy See (Vatican City State)                           5\n",
       "Reunion                                                 4\n",
       "United States Minor Outlying Islands                    4\n",
       "Antarctica (the territory South of 60 deg S)            4\n",
       "Svalbard & Jan Mayen Islands                            4\n",
       "Bouvet Island (Bouvetoya)                               4\n",
       "Saint Helena                                            3\n",
       "Cote d'Ivoire                                           3\n",
       "British Indian Ocean Territory (Chagos Archipelago)     2\n",
       "Palestinian Territory                                   2\n",
       "Libyan Arab Jamahiriya                                  1\n",
       "Timor-Leste                                             1\n",
       "Netherlands Antilles                                    1\n",
       "Name: count, dtype: int64"
      ]
     },
     "execution_count": 36,
     "metadata": {},
     "output_type": "execute_result"
    }
   ],
   "source": [
    "# looking at the unknowns\n",
    "unknown_continent_rows = data[data['continent_of_birth'] == 'Unknown']\n",
    "\n",
    "# Select only the 'country_of_birth' and 'continent' columns\n",
    "unknown_continent_rows = unknown_continent_rows[['country_of_birth', 'continent_of_birth']]\n",
    "\n",
    "# Display these rows\n",
    "print(unknown_continent_rows)\n",
    "\n",
    "# finding the number of unique country of birth for unknowns\n",
    "unique_country_counts = unknown_continent_rows['country_of_birth'].value_counts()\n",
    "unique_country_counts"
   ]
  },
  {
   "cell_type": "markdown",
   "metadata": {},
   "source": [
    "# Postcode"
   ]
  },
  {
   "cell_type": "code",
   "execution_count": 15,
   "metadata": {},
   "outputs": [
    {
     "name": "stdout",
     "output_type": "stream",
     "text": [
      "0      LS\n",
      "1       M\n",
      "2      SO\n",
      "3       B\n",
      "4      TQ\n",
      "       ..\n",
      "995    SA\n",
      "996    TS\n",
      "997     G\n",
      "998    CT\n",
      "999    SR\n",
      "Name: postcode, Length: 1000, dtype: object\n",
      "Number of unique postcodes: 124\n"
     ]
    }
   ],
   "source": [
    "# Function to truncate postcode after the first numeric digit\n",
    "def truncate_postcode(postcode):\n",
    "    for i, char in enumerate(postcode):\n",
    "        if char.isdigit():\n",
    "            return postcode[:i]  # Truncate at the position of the first numeric digit\n",
    "    return postcode  # Return the original postcode if no numeric digit is found\n",
    "\n",
    "# Applying the function to create the postcode bands\n",
    "data['postcode'] = data['postcode'].astype(str).apply(truncate_postcode)\n",
    "\n",
    "# Print the updated DataFrame with the banded postcode column\n",
    "print(data['postcode'])\n",
    "\n",
    "# Find the number of unique postcodes and print\n",
    "num_unique_postcodes = data['postcode'].nunique()\n",
    "print(\"Number of unique postcodes:\", num_unique_postcodes)"
   ]
  },
  {
   "cell_type": "code",
   "execution_count": 16,
   "metadata": {},
   "outputs": [
    {
     "data": {
      "text/plain": [
       "Region\n",
       "Greater London      248\n",
       "North West          184\n",
       "Scotland            125\n",
       "East Midlands        91\n",
       "West Midlands        85\n",
       "South East           72\n",
       "South West           54\n",
       "East of England      47\n",
       "North East           43\n",
       "Wales                30\n",
       "Channel Islands      11\n",
       "Northern Ireland      6\n",
       "East England          3\n",
       "Isle of Man           1\n",
       "Name: count, dtype: int64"
      ]
     },
     "execution_count": 16,
     "metadata": {},
     "output_type": "execute_result"
    }
   ],
   "source": [
    "# Importing postcode mapping to region\n",
    "postcode_values = pd.read_excel('PostcodeRegions.xlsx')\n",
    "postcode_values.head(10)\n",
    "\n",
    "# Making it into a dictionary\n",
    "postcode_dict = postcode_values.set_index('Postcode Area')['Region'].to_dict()\n",
    "\n",
    "# Applying the mapping to the dataframe\n",
    "data['Region'] = data['postcode'].map(postcode_dict)\n",
    "\n",
    "# Find the number of unique regions and print\n",
    "unique_regions_counts = data['Region'].value_counts()\n",
    "unique_regions_counts"
   ]
  },
  {
   "cell_type": "code",
   "execution_count": 17,
   "metadata": {},
   "outputs": [
    {
     "data": {
      "text/plain": [
       "Region\n",
       "England    827\n",
       "Other      173\n",
       "Name: count, dtype: int64"
      ]
     },
     "execution_count": 17,
     "metadata": {},
     "output_type": "execute_result"
    }
   ],
   "source": [
    "# Grouping to England and Other\n",
    "data['Region'].replace('Greater London', 'England', inplace = True)\n",
    "data['Region'].replace('North West', 'England', inplace = True)\n",
    "data['Region'].replace('East Midlands', 'England', inplace = True)\n",
    "data['Region'].replace('West Midlands', 'England', inplace = True)\n",
    "data['Region'].replace('South East', 'England', inplace = True)\n",
    "data['Region'].replace('South West', 'England', inplace = True)\n",
    "data['Region'].replace('East of England', 'England', inplace = True)\n",
    "data['Region'].replace('North East', 'England', inplace = True)\n",
    "data['Region'].replace('East England', 'England', inplace = True)\n",
    "\n",
    "data['Region'].replace('Scotland', 'Other', inplace = True)\n",
    "data['Region'].replace('Wales', 'Other', inplace = True)\n",
    "data['Region'].replace('Channel Islands', 'Other', inplace = True)\n",
    "data['Region'].replace('Northern Ireland', 'Other', inplace = True)\n",
    "data['Region'].replace('Isle of Man', 'Other', inplace = True)\n",
    "\n",
    "# finding the number of unique regions\n",
    "unique_region_counts = data['Region'].value_counts()\n",
    "unique_region_counts"
   ]
  },
  {
   "cell_type": "markdown",
   "metadata": {},
   "source": [
    "# Banding education levels"
   ]
  },
  {
   "cell_type": "code",
   "execution_count": 18,
   "metadata": {},
   "outputs": [],
   "source": [
    "# Grouping Education level together\n",
    "data['education_level'].replace('primary', 'pre-college', inplace = True)\n",
    "data['education_level'].replace('secondary', 'pre-college', inplace = True)\n",
    "data['education_level'].replace('other', 'pre-college', inplace = True)\n",
    "data['education_level'].replace('bachelor', 'college and above', inplace = True)\n",
    "data['education_level'].replace('masters', 'college and above', inplace = True)\n",
    "data['education_level'].replace('phD', 'college and above', inplace = True)"
   ]
  },
  {
   "cell_type": "markdown",
   "metadata": {},
   "source": [
    "# removing signs on blood"
   ]
  },
  {
   "cell_type": "code",
   "execution_count": 34,
   "metadata": {},
   "outputs": [
    {
     "data": {
      "text/plain": [
       "blood_groupn\n",
       "A     431\n",
       "O     430\n",
       "B     108\n",
       "AB     31\n",
       "Name: count, dtype: int64"
      ]
     },
     "execution_count": 34,
     "metadata": {},
     "output_type": "execute_result"
    }
   ],
   "source": [
    "# Remove the '+' and '-' signs from the 'blood_group' column\n",
    "data['blood_groupn'] = data['blood_group'].str.replace('+', '').str.replace('-', '')\n",
    "data.head(10)\n",
    "\n",
    "# checking number of unique values\n",
    "unique_blood_group = data['blood_groupn'].value_counts()\n",
    "unique_blood_group"
   ]
  },
  {
   "cell_type": "markdown",
   "metadata": {},
   "source": [
    "# Weight ranges"
   ]
  },
  {
   "cell_type": "code",
   "execution_count": 23,
   "metadata": {},
   "outputs": [
    {
     "name": "stdout",
     "output_type": "stream",
     "text": [
      "Minimum weight: 35.0\n",
      "Maximum weight: 100.0\n"
     ]
    }
   ],
   "source": [
    "# Before banding, determining range of weight by finding minimum and maximum values\n",
    "min_weight = data['weight'].min() # 35.0\n",
    "max_weight = data['weight'].max() # 100.0\n",
    "\n",
    "print(f\"Minimum weight: {min_weight}\")\n",
    "print(f\"Maximum weight: {max_weight}\")"
   ]
  },
  {
   "cell_type": "code",
   "execution_count": 24,
   "metadata": {},
   "outputs": [
    {
     "name": "stdout",
     "output_type": "stream",
     "text": [
      "weight_ranges\n",
      "35-45     170\n",
      "75-85     155\n",
      "85-95     155\n",
      "45-55     152\n",
      "65-75     151\n",
      "55-65     139\n",
      "95-105     78\n",
      "Name: count, dtype: int64\n"
     ]
    },
    {
     "data": {
      "image/png": "[encoded data removed]",
      "text/plain": [
       "<Figure size 640x480 with 1 Axes>"
      ]
     },
     "metadata": {},
     "output_type": "display_data"
    },
    {
     "name": "stdout",
     "output_type": "stream",
     "text": [
      "Number of unique weight ranges: 7\n"
     ]
    }
   ],
   "source": [
    "# Creating banding categories for weight with increments of 10 per category\n",
    "weight_bins = [35, 45, 55, 65, 75, 85, 95, 105]\n",
    "weight_labels = [\"35-45\", \"45-55\", \"55-65\", \"65-75\", \"75-85\", \"85-95\", \"95-105\"]  # Define labels for each bin\n",
    "data[\"weight_ranges\"] = pd.cut(data['weight'], bins=weight_bins, labels=weight_labels, right=False)\n",
    "\n",
    "# Obtaining counts of weight ranges\n",
    "counts_weight = data[\"weight_ranges\"].value_counts()\n",
    "count_in_order_weight = [counts_weight[label] for label in weight_labels]  # Corrected variable name\n",
    "print(counts_weight)\n",
    "\n",
    "# Plotting counts of weight ranges\n",
    "plt.bar(weight_labels, count_in_order_weight)  # Corrected variable name\n",
    "plt.xlabel(\"Weight Ranges\")\n",
    "plt.ylabel(\"Counts\")\n",
    "plt.xticks(rotation=45)\n",
    "plt.show()\n",
    "\n",
    "# Finding number of unique weight ranges\n",
    "num_unique_weight_ranges = data['weight_ranges'].nunique()\n",
    "print(\"Number of unique weight ranges:\", num_unique_weight_ranges)"
   ]
  },
  {
   "cell_type": "markdown",
   "metadata": {},
   "source": [
    "# Height ragnges\n"
   ]
  },
  {
   "cell_type": "code",
   "execution_count": 25,
   "metadata": {},
   "outputs": [
    {
     "name": "stdout",
     "output_type": "stream",
     "text": [
      "Minimum height: 1.4\n",
      "Maximum height: 2.0\n"
     ]
    }
   ],
   "source": [
    "# Finding minimum and maximum heights\n",
    "min_height = data['height'].min() # 1.4\n",
    "max_height = data['height'].max() # 2.0\n",
    "\n",
    "print(f\"Minimum height: {min_height}\")\n",
    "print(f\"Maximum height: {max_height}\")"
   ]
  },
  {
   "cell_type": "code",
   "execution_count": 26,
   "metadata": {},
   "outputs": [
    {
     "name": "stdout",
     "output_type": "stream",
     "text": [
      "height_ranges\n",
      "1.8-2.0    349\n",
      "1.4-1.6    339\n",
      "1.6-1.8    312\n",
      "Name: count, dtype: int64\n"
     ]
    },
    {
     "data": {
      "image/png": "[encoded data removed]",
      "text/plain": [
       "<Figure size 640x480 with 1 Axes>"
      ]
     },
     "metadata": {},
     "output_type": "display_data"
    },
    {
     "name": "stdout",
     "output_type": "stream",
     "text": [
      "Number of unique height categories: 3\n"
     ]
    }
   ],
   "source": [
    "# Banding height into increments of 0.2\n",
    "height_bins = [1.4, 1.6, 1.8, 2.1]  # Ranges for categories: 1.4-1.6, 1.6-1.8, 1.8-2.0 (adjust upper bound to include 2.0)\n",
    "height_labels = ['1.4-1.6', '1.6-1.8', '1.8-2.0']  # Labels for the categories\n",
    "\n",
    "# Banding heights into specified ranges\n",
    "data['height_ranges'] = pd.cut(data['height'], bins=height_bins, labels=height_labels, right=False)\n",
    "\n",
    "# Showing counts of height ranges\n",
    "counts_height = data['height_ranges'].value_counts()\n",
    "count_in_order_height = [counts_height[label] for label in height_labels]\n",
    "print(counts_height)\n",
    "\n",
    "# Plotting count of height ranges\n",
    "plt.bar(height_labels, count_in_order_height)\n",
    "plt.xlabel(\"Height Ranges\")\n",
    "plt.ylabel(\"Counts\")\n",
    "plt.xticks(rotation=45)\n",
    "plt.show()\n",
    "\n",
    "# Finding the number of unique height categories\n",
    "num_unique_height_ranges = data['height_ranges'].nunique()\n",
    "print(\"Number of unique height categories:\", num_unique_height_ranges)"
   ]
  },
  {
   "cell_type": "markdown",
   "metadata": {},
   "source": [
    "# Drinking"
   ]
  },
  {
   "cell_type": "code",
   "execution_count": 27,
   "metadata": {},
   "outputs": [],
   "source": [
    "bins= [0,1,4,14]\n",
    "labels = [\"never\", \"light\", \"moderate\"]\n",
    "data[\"avg_n_drinks_per_week_group\"] = pd.cut(data['avg_n_drinks_per_week'], bins=bins, labels=labels, right=False)"
   ]
  },
  {
   "cell_type": "code",
   "execution_count": 28,
   "metadata": {},
   "outputs": [
    {
     "name": "stdout",
     "output_type": "stream",
     "text": [
      "avg_n_drinks_per_week_group\n",
      "moderate    568\n",
      "light       343\n",
      "never        89\n",
      "Name: count, dtype: int64\n"
     ]
    },
    {
     "data": {
      "image/png": "[encoded data removed]",
      "text/plain": [
       "<Figure size 640x480 with 1 Axes>"
      ]
     },
     "metadata": {},
     "output_type": "display_data"
    }
   ],
   "source": [
    "drinks_counts = data[\"avg_n_drinks_per_week_group\"].value_counts()\n",
    "drinks_count_in_order = []\n",
    "for i in labels:\n",
    "    drinks_count_in_order.append(drinks_counts[i])\n",
    "print(drinks_counts)\n",
    "\n",
    "plt.bar(labels, drinks_count_in_order)\n",
    "plt.xlabel(\"Average number drinks per week in group\")\n",
    "plt.ylabel(\"People\")\n",
    "plt.show()"
   ]
  },
  {
   "cell_type": "markdown",
   "metadata": {},
   "source": [
    "# Cigar\n"
   ]
  },
  {
   "cell_type": "code",
   "execution_count": 29,
   "metadata": {},
   "outputs": [],
   "source": [
    "bins= [0,200,400,600]\n",
    "labels = [\"light\", \"moderate\", \"heavy\"]\n",
    "data[\"avg_n_cigret_per_week_group\"] = pd.cut(data['avg_n_cigret_per_week'], bins=bins, labels=labels, right=False)"
   ]
  },
  {
   "cell_type": "code",
   "execution_count": 30,
   "metadata": {},
   "outputs": [
    {
     "data": {
      "image/png": "[encoded data removed]",
      "text/plain": [
       "<Figure size 640x480 with 1 Axes>"
      ]
     },
     "metadata": {},
     "output_type": "display_data"
    }
   ],
   "source": [
    "counts = data[\"avg_n_cigret_per_week_group\"].value_counts()\n",
    "count_in_order = []\n",
    "for i in labels:\n",
    "    count_in_order.append(counts[i])\n",
    "\n",
    "plt.bar(labels, count_in_order)\n",
    "plt.xlabel(\"Average number cigarette per week in group\")\n",
    "plt.ylabel(\"People\")\n",
    "plt.show()"
   ]
  },
  {
   "cell_type": "markdown",
   "metadata": {},
   "source": [
    "# Countries visited\n"
   ]
  },
  {
   "cell_type": "code",
   "execution_count": 31,
   "metadata": {},
   "outputs": [
    {
     "name": "stdout",
     "output_type": "stream",
     "text": [
      "['1-5', '6-10', '11-15', '16-20', '21-25', '26-30', '31-35', '36-40', '41-45', '46-50']\n",
      "Values in ranges of 5 and their counts:\n",
      "n_countries_range\n",
      "31-35    122\n",
      "21-25    115\n",
      "36-40    110\n",
      "6-10     108\n",
      "26-30    104\n",
      "41-45    102\n",
      "16-20     92\n",
      "11-15     88\n",
      "46-50     83\n",
      "1-5       76\n",
      "Name: count, dtype: int64\n"
     ]
    }
   ],
   "source": [
    "bins = list(range(0, max(data['n_countries_visited'])+1, 5))\n",
    "\n",
    "labels = [f\"{start + 1}-{end}\" for start, end in zip(bins[:-1], bins[1:])]\n",
    "print(labels)\n",
    "\n",
    "# Create a new column n_countries_range with new bins\n",
    "data['n_countries_range'] = pd.cut(data['n_countries_visited'], bins=bins, labels=labels, include_lowest=True)\n",
    "\n",
    "# Count the occurrences in each bin and print it \n",
    "range_counts = data['n_countries_range'].value_counts()\n",
    "print(\"Values in ranges of 5 and their counts:\")\n",
    "print(range_counts)"
   ]
  },
  {
   "cell_type": "code",
   "execution_count": null,
   "metadata": {},
   "outputs": [],
   "source": []
  },
  {
   "cell_type": "code",
   "execution_count": null,
   "metadata": {},
   "outputs": [],
   "source": []
  },
  {
   "cell_type": "code",
   "execution_count": null,
   "metadata": {},
   "outputs": [],
   "source": []
  },
  {
   "cell_type": "markdown",
   "metadata": {},
   "source": [
    "# Creating the dataset"
   ]
  },
  {
   "cell_type": "code",
   "execution_count": 44,
   "metadata": {},
   "outputs": [],
   "source": [
    "# Order of columns:\n",
    "cols_gov = ['sample_ID', 'gender','birth_year_ranges', 'continent_of_birth', 'current_country', 'Region', 'weight_ranges', 'height_ranges', 'blood_groupn', 'avg_n_drinks_per_week_group', 'avg_n_cigret_per_week_group', 'education_level', 'n_countries_range','cc_status']\n",
    "cols_res = ['sample_ID', 'gender','birth_year_ranges', 'continent_of_birth', 'current_country', 'Region', 'weight', 'height', 'blood_group', 'avg_n_drinks_per_week', 'avg_n_cigret_per_week', 'education_level', 'n_countries_visited','cc_status']"
   ]
  },
  {
   "cell_type": "code",
   "execution_count": 45,
   "metadata": {},
   "outputs": [],
   "source": [
    "# Generating final dataset for gov/public\n",
    "final_data_gov = data[cols_gov]\n",
    "# EXPORTING\n",
    "final_data_gov.to_csv(\"final_data_gov.csv\", index=False)"
   ]
  },
  {
   "cell_type": "code",
   "execution_count": 46,
   "metadata": {},
   "outputs": [],
   "source": [
    "test = pd.read_csv('final_data_gov.csv')"
   ]
  },
  {
   "cell_type": "code",
   "execution_count": 56,
   "metadata": {},
   "outputs": [
    {
     "data": {
      "text/plain": [
       "gender  birth_year_ranges  continent_of_birth  education_level    Region\n",
       "F       1955-1960          Africa              pre-college        Other     1\n",
       "                           America             pre-college        Other     1\n",
       "                           Asia                college and above  Other     1\n",
       "                                               pre-college        Other     1\n",
       "        1960-1975          Asia                college and above  Other     1\n",
       "                           Europe              college and above  Other     1\n",
       "        1975-1990          Asia                pre-college        Other     1\n",
       "        1990-2005          Europe              college and above  Other     1\n",
       "M       1955-1960          America             pre-college        Other     1\n",
       "                           Asia                college and above  Other     1\n",
       "                           Europe              college and above  Other     1\n",
       "        1960-1975          Asia                college and above  Other     1\n",
       "        1975-1990          Asia                college and above  Other     1\n",
       "                                               pre-college        Other     1\n",
       "        1990-2005          Europe              college and above  Other     1\n",
       "dtype: int64"
      ]
     },
     "execution_count": 56,
     "metadata": {},
     "output_type": "execute_result"
    }
   ],
   "source": [
    "quasi_identifiers_gov = ['gender', 'birth_year_ranges', 'continent_of_birth', 'education_level','Region']\n",
    "groups = test.groupby(quasi_identifiers_gov).size()\n",
    "groups.min()\n",
    "groups[groups == 1]\n"
   ]
  },
  {
   "cell_type": "code",
   "execution_count": null,
   "metadata": {},
   "outputs": [],
   "source": []
  }
 ],
 "metadata": {
  "kernelspec": {
   "display_name": "base",
   "language": "python",
   "name": "python3"
  },
  "language_info": {
   "codemirror_mode": {
    "name": "ipython",
    "version": 3
   },
   "file_extension": ".py",
   "mimetype": "text/x-python",
   "name": "python",
   "nbconvert_exporter": "python",
   "pygments_lexer": "ipython3",
   "version": "3.11.5"
  }
 },
 "nbformat": 4,
 "nbformat_minor": 2
}
