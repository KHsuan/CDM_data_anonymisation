{
 "cells": [
  {
   "cell_type": "code",
   "execution_count": 1,
   "metadata": {},
   "outputs": [],
   "source": [
    "import random\n",
    "import time\n",
    "import numpy as np\n",
    "import pandas as pd\n",
    "import matplotlib.pyplot as plt"
   ]
  },
  {
   "cell_type": "code",
   "execution_count": 2,
   "metadata": {},
   "outputs": [
    {
     "name": "stdout",
     "output_type": "stream",
     "text": [
      "(1000, 18)\n"
     ]
    }
   ],
   "source": [
    "file_path = r'C:\\Users\\王俊凯\\Desktop\\CDM_Coursework2\\Data\\customer_information.csv'\n",
    "cus_data = pd.read_csv(file_path)\n",
    "print(cus_data.shape)"
   ]
  },
  {
   "cell_type": "code",
   "execution_count": 3,
   "metadata": {},
   "outputs": [],
   "source": [
    "# import the needed package\n",
    "import os\n",
    "import hashlib"
   ]
  },
  {
   "cell_type": "markdown",
   "metadata": {},
   "source": [
    "Hash with key"
   ]
  },
  {
   "cell_type": "code",
   "execution_count": 4,
   "metadata": {},
   "outputs": [],
   "source": [
    "def hash_with_key(data_column, hashed_column, key):\n",
    "    for i in range(len(hashed_column)):\n",
    "        hashed_column[i] = str(data_column[i])\n",
    "        hashed_column[i] = str(hashed_column[i] + key).encode()\n",
    "        hashed_column[i] = hashlib.sha1(hashed_column[i]).hexdigest()"
   ]
  },
  {
   "cell_type": "code",
   "execution_count": 6,
   "metadata": {},
   "outputs": [
    {
     "name": "stdout",
     "output_type": "stream",
     "text": [
      "   weight                                weightest2\n",
      "0    74.2  5956028383496a14ff72ef888866fcee9393fb13\n",
      "1    69.4  f25f782108a8c0532bf745bd3b28492fc445a194\n",
      "2    98.6  6cd154023105dcac139e9f29d34ea591d7d466ce\n",
      "3    62.0  2ec5876d9302ed8f97586d48994d21b50659cd3a\n",
      "4    96.3  557dc87a27a4b90fae558b2e08ac9970e0a45722\n"
     ]
    },
    {
     "name": "stderr",
     "output_type": "stream",
     "text": [
      "C:\\Users\\王俊凯\\AppData\\Local\\Temp\\ipykernel_20916\\3843324291.py:3: SettingWithCopyWarning: \n",
      "A value is trying to be set on a copy of a slice from a DataFrame\n",
      "\n",
      "See the caveats in the documentation: https://pandas.pydata.org/pandas-docs/stable/user_guide/indexing.html#returning-a-view-versus-a-copy\n",
      "  hashed_column[i] = str(data_column[i])\n"
     ]
    }
   ],
   "source": [
    "cus_data[\"weightest2\"] = cus_data[\"weight\"]\n",
    "hash_with_key(cus_data[\"weight\"], cus_data[\"weightest2\"], \"hi\")\n",
    "print(cus_data[[\"weight\", \"weightest2\"]].head())"
   ]
  },
  {
   "cell_type": "markdown",
   "metadata": {},
   "source": [
    "Hash with salt"
   ]
  },
  {
   "cell_type": "code",
   "execution_count": 14,
   "metadata": {},
   "outputs": [],
   "source": [
    "# define a fuction to hash and create the salt list \n",
    "def hash_with_salt(data_column, hashed_column):\n",
    "    salt_list = []\n",
    "    for i in range(len(hashed_column)):\n",
    "        # Generate a random salt\n",
    "        salt = os.urandom(32) \n",
    "        # save the salt into the list for future use\n",
    "        salt_list.append(salt)\n",
    "        hashed_column[i] = hashlib.sha256(str(data_column[i]).encode() + salt).hexdigest()\n",
    "    # export the salt_list\n",
    "    import csv\n",
    "    with open('salt_list.csv', 'w', newline='') as file:\n",
    "        writer = csv.writer(file)\n",
    "        for j in salt_list:\n",
    "            writer.writerow([j])\n",
    "    # return the salt_list for use in other columns\n",
    "    return salt_list\n"
   ]
  },
  {
   "cell_type": "code",
   "execution_count": null,
   "metadata": {},
   "outputs": [],
   "source": [
    "# hash using the salt list created by the former hash_with_salt\n",
    "def hash_with_existing_salt(data_column, hashed_column, salt_list):\n",
    "    for i in range(len(hashed_column)):\n",
    "        hashed_column[i] = hashlib.sha256(str(data_column[i]).encode() + salt_list[i]).hexdigest()"
   ]
  },
  {
   "cell_type": "code",
   "execution_count": 16,
   "metadata": {},
   "outputs": [
    {
     "name": "stderr",
     "output_type": "stream",
     "text": [
      "C:\\Users\\王俊凯\\AppData\\Local\\Temp\\ipykernel_27128\\3846073166.py:8: SettingWithCopyWarning: \n",
      "A value is trying to be set on a copy of a slice from a DataFrame\n",
      "\n",
      "See the caveats in the documentation: https://pandas.pydata.org/pandas-docs/stable/user_guide/indexing.html#returning-a-view-versus-a-copy\n",
      "  hashed_column[i] = hashlib.sha256(str(data_column[i]).encode() + salt).hexdigest()\n"
     ]
    }
   ],
   "source": [
    "# test\n",
    "cus_data[\"phone_number_hash\"] = cus_data[\"phone_number\"]\n",
    "hash_with_salt(cus_data[\"phone_number\"], cus_data[\"phone_number_hash\"])\n",
    "# notice that outcomes changes everytime we run the function, and the salt_list changes as well."
   ]
  }
 ],
 "metadata": {
  "kernelspec": {
   "display_name": "Python 3",
   "language": "python",
   "name": "python3"
  },
  "language_info": {
   "codemirror_mode": {
    "name": "ipython",
    "version": 3
   },
   "file_extension": ".py",
   "mimetype": "text/x-python",
   "name": "python",
   "nbconvert_exporter": "python",
   "pygments_lexer": "ipython3",
   "version": "3.10.11"
  }
 },
 "nbformat": 4,
 "nbformat_minor": 2
}
